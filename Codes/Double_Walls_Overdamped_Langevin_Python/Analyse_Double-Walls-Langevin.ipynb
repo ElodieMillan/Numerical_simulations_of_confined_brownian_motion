{
 "cells": [
  {
   "cell_type": "code",
   "execution_count": 4,
   "id": "3734fb73-ee57-4031-bf76-7ea4050ddb13",
   "metadata": {},
   "outputs": [],
   "source": [
    "import numpy as np\n",
    "import matplotlib.pyplot as plt\n",
    "import pandas as pd\n",
    "import sys\n",
    "import matplotlib as mpl\n",
    "from mpltools import annotation\n",
    "import time\n",
    "\n",
    "from matplotlib import rc\n",
    "import seaborn as sns\n",
    "custom_params = {\n",
    "    \"xtick.direction\": \"in\",\n",
    "    \"ytick.direction\": \"in\",\n",
    "    \"lines.markeredgecolor\": \"k\",\n",
    "    \"lines.markeredgewidth\": 0.3,\n",
    "    \"figure.dpi\": 200,\n",
    "    \"text.usetex\": True,\n",
    "    \"font.family\": \"serif\",\n",
    "}\n",
    "\n",
    "sns.set_theme(context = \"notebook\", style=\"ticks\", rc=custom_params)\n",
    "\n",
    "BlueUB = (0, 157/255, 224/255)\n",
    "BrownUB = (68/255, 58/255, 49/255)"
   ]
  },
  {
   "cell_type": "code",
   "execution_count": 5,
   "id": "59c279b7-6618-4abd-b989-24d1fa7b5225",
   "metadata": {},
   "outputs": [
    {
     "name": "stdout",
     "output_type": "stream",
     "text": [
      "Compute time=  735.1434528827667\n"
     ]
    }
   ],
   "source": [
    "from DoubleWalls_Overdamped_Langevin import DoubleWallsLangevin\n",
    "\n",
    "a = 1.519e-6\n",
    "H = 20e-6\n",
    "lD = 88.0e-9\n",
    "lB = 526e-9\n",
    "B = 5.0\n",
    "T = 300\n",
    "eta0 = 0.001\n",
    "\n",
    "dt = 0.01\n",
    "Nt = 500_000\n",
    "\n",
    "tc_0 = time.time() \n",
    "brown = DoubleWallsLangevin(dt=dt, Nt=Nt,\n",
    "                                               a=a, H=H, lD=lD, lB=lB, B=B,\n",
    "                                               Nt_sub=1, eta0=eta0,\n",
    "                                               T=T, R0=None)#Instance of DoubleWallsLangevin class\n",
    "brown.trajectory() #Compute trajectory of \"brown\"\n",
    "print(\"Compute time= \", time.time()-tc_0)"
   ]
  },
  {
   "cell_type": "markdown",
   "id": "fcca9465-b751-4558-a182-75d166db929d",
   "metadata": {},
   "source": [
    "## Plot diffusion coefficients "
   ]
  },
  {
   "cell_type": "code",
   "execution_count": null,
   "id": "fd8f4c5b-3ed5-47ba-919e-8138b10b6fea",
   "metadata": {},
   "outputs": [],
   "source": [
    "plt.figure(figsize=(1.5 * 3.375, 1.5 * 3.375 / 1.68), tight_layout=True)\n",
    "\n",
    "epsilon =  brown.H*1e-8\n",
    "z_1 = np.linspace(- brown.H+epsilon, - brown.H+1000e-6, 100000)\n",
    "z_2 = np.linspace(- (brown.H-epsilon),  brown.H-epsilon, 1000)\n",
    "D0 = brown.D0\n",
    "\n",
    "## Diffusion à un mur\n",
    "ax1 = plt.subplot(121)\n",
    "ax1.loglog((z_1+ brown.H)/ brown.a,  brown.D_x(z_1)/D0, color=BlueUB)\n",
    "ax1.plot((z_1+ brown.H)/ brown.a, brown.D_z(z_1)/D0, color=\"tab:green\")\n",
    "ax1.set(\n",
    "    xlabel = r\"$(z_t+H)/a$\",\n",
    "    ylabel = r\"$D_i/D_0$\",\n",
    "    xlim = (1e-4, 2e1),\n",
    "    ylim = (1e-4, 2e0),\n",
    ")\n",
    "ax1.text(0.06, 0.92, r\"(a)\", transform=ax1.transAxes)\n",
    "locmaj = mpl.ticker.LogLocator(base=10.0, subs=(1.0, ), numticks=100)\n",
    "locmin = mpl.ticker.LogLocator(base=10.0, subs=np.arange(2, 10) * .1, numticks=100)\n",
    "ax1.yaxis.set_major_locator(locmaj)\n",
    "ax1.yaxis.set_minor_locator(locmin)\n",
    "ax1.yaxis.set_minor_formatter(mpl.ticker.NullFormatter())\n",
    "\n",
    "ax1.xaxis.set_major_locator(locmaj)\n",
    "ax1.xaxis.set_minor_locator(locmin)\n",
    "ax1.xaxis.set_minor_formatter(mpl.ticker.NullFormatter())\n",
    "\n",
    "ax1_ticks = ax1.get_yticklabels()\n",
    "for i in ax1_ticks:\n",
    "    i.set_visible(False)\n",
    "for n, i in enumerate(ax1_ticks):\n",
    "    if n%1==0:i.set_visible(True)\n",
    "ax1_ticks = ax1.get_xticklabels()\n",
    "for i in ax1_ticks:\n",
    "    i.set_visible(False)\n",
    "for n, i in enumerate(ax1_ticks):\n",
    "    if n%2==0:i.set_visible(True)\n",
    "    \n",
    "\n",
    "## Diffusion à deux mur\n",
    "ax2 = plt.subplot(122)\n",
    "ax2.plot(z_2/brown.a, brown.D_x(z_2)/D0, color=BlueUB)\n",
    "ax2.plot(z_2/brown.a, brown.D_z(z_2)/D0, color=\"tab:green\")\n",
    "ax2.set(\n",
    "    xlabel = r\"$z_t/a$\",\n",
    ")\n",
    "ax2.text(0.06, 0.92, r\"(b)\", transform=ax2.transAxes)\n",
    "\n",
    "\n",
    "# fig.tight_layout()\n",
    "# plt.savefig(\"Diffusion.pdf\")"
   ]
  },
  {
   "cell_type": "markdown",
   "id": "a4f70b3e-c68a-47df-8376-cdd184a5f2e5",
   "metadata": {},
   "source": [
    "## Shoot of initial altitude $Z_0$ over $P_\\mathrm{eq}$"
   ]
  },
  {
   "cell_type": "code",
   "execution_count": null,
   "id": "4c61d7ff-82dd-40dc-b0dd-586d729a5cc3",
   "metadata": {},
   "outputs": [],
   "source": [
    "u = np.linspace(0.01,0.99, 100) # u in ]0,1[\n",
    "F_inverse = brown.sample() # Call function"
   ]
  },
  {
   "cell_type": "code",
   "execution_count": null,
   "id": "9412efe8-ca90-46af-adec-14aff39c0831",
   "metadata": {},
   "outputs": [],
   "source": [
    "# Shoot 1000 times z_eq value over Peq\n",
    "z0_eq = brown.return_samples(1000) # Compute z_eq from P_eq(z)\n",
    "\n",
    "bins=100\n",
    "binsPositions_eq, _, hist_Z0eq = brown.logarithmic_hist(position=z0_eq+brown.H, begin=1e-15, stop=7e-6, num=bins, )\n",
    "P_Z0eq = hist_Z0eq / np.trapz(hist_Z0eq, binsPositions_eq*1e6)"
   ]
  },
  {
   "cell_type": "code",
   "execution_count": null,
   "id": "f831e6d6-2dbe-44ca-b9ff-0ce4b4e2fa01",
   "metadata": {},
   "outputs": [],
   "source": [
    "# Theoritical Peq\n",
    "epsilon = brown.H*1e-3\n",
    "z0_Peq = np.logspace(np.log(1e-20)/np.log(2), np.log(8e-6)/np.log(2), 1000, base=2)\n",
    "\n",
    "Peq_theo =  brown.P_eq_Z(z0_Peq-brown.H)"
   ]
  },
  {
   "cell_type": "code",
   "execution_count": null,
   "id": "758349ef-a57f-4bd9-8dbe-cf8f257336ff",
   "metadata": {},
   "outputs": [],
   "source": [
    "plt.figure(figsize=(1.5 * 3.375, 1.5 * 3.375 / 1.68), tight_layout=True)\n",
    "ax1 = plt.subplot(121)\n",
    "ax1.plot(u, F_inverse(u), color=BlueUB)\n",
    "ax1.set(\n",
    "    xlabel = r\"$U$\",\n",
    "    ylabel = r\"$F^{-1}_\\mathrm{eq}(U)$\",\n",
    ")\n",
    "ax1.text(0.06, 0.92, r\"(a)\", transform=ax1.transAxes)\n",
    "\n",
    "ax2 = plt.subplot(122)\n",
    "ax2.semilogy((binsPositions_eq)*1e6, P_Z0eq, \"o\", color=BlueUB)\n",
    "ax2.semilogy( z0_Peq*1e6, Peq_theo/np.trapz( Peq_theo , z0_Peq*1e6), \"k-\",)\n",
    "ax2.set(\n",
    "    xlabel = r\"$Z_0~\\mathrm{(\\mu m)}$\",\n",
    "    ylabel = r\"$P\\mathrm{eq}(Z_0)$\",\n",
    "    xlim = (-0.5, 5),\n",
    "    ylim = (5e-4, 5e0)\n",
    ")\n",
    "ax2.text(0.06, 0.92, r\"(b)\", transform=ax2.transAxes)\n",
    "\n",
    "# plt.savefig(\"SampleFunction.pdf\")"
   ]
  },
  {
   "cell_type": "markdown",
   "id": "5264749a-f784-4143-b8d9-d0fb80cd2819",
   "metadata": {},
   "source": [
    "## Trajectory"
   ]
  },
  {
   "cell_type": "code",
   "execution_count": null,
   "id": "85b8ac88-2553-491c-ae72-7e5e972f556c",
   "metadata": {
    "tags": []
   },
   "outputs": [],
   "source": [
    "plt.figure(figsize=(1.5 * 3.375, 1.5 * 3.375 / 1.68), tight_layout=True)\n",
    "M=10000\n",
    "## TRAJECTOIRE\n",
    "ax1 = plt.subplot(111)\n",
    "ax11=ax1.twinx()\n",
    "l1 = ax11.plot(np.arange(Nt)[:M] * dt, (brown.Zn[:M]+H)*1e6, color=\"tab:green\", label=r\"$Z_n+H$\")\n",
    "ax11.set_ylabel(\"$Z_n~\\mathrm{(\\mu m)}$\",color=\"green\")\n",
    "ax11.tick_params(axis='y', labelcolor=\"green\")\n",
    "ax1.tick_params(axis='y', labelcolor=\"tab:blue\")\n",
    "\n",
    "# ax11.set_ylim(0, 4)\n",
    "l2 = ax1.plot(np.arange(Nt)[:M] * dt, brown.Xn[:M]*1e6, color=BlueUB, label=r\"$X_n$\")\n",
    "lns = l1 + l2\n",
    "labs = [l.get_label() for l in lns]\n",
    "# ax1.legend(lns, labs, loc='upper left', frameon=False, fontsize=8)\n",
    "ax1.set(\n",
    "    xlabel = r\"$t_n~\\mathrm{(s)}$\",\n",
    "    ylabel = r\"$X_n ~\\mathrm{(\\mu m)}$\",\n",
    ")\n",
    "ax1.yaxis.label.set_color(BlueUB)\n",
    "\n",
    "# plt.savefig(\"Trajectory.pdf\")"
   ]
  },
  {
   "cell_type": "markdown",
   "id": "d0870441-8436-4ba6-87b8-24efcaf5516b",
   "metadata": {},
   "source": [
    "## Standard deviation"
   ]
  },
  {
   "cell_type": "code",
   "execution_count": null,
   "id": "0c9afece-0dc0-4edd-a643-e66e7605b7ef",
   "metadata": {},
   "outputs": [],
   "source": [
    "tau_x, msd_x = brown.MSD(axis=\"x\") #Invocation de la méthode MSD pour calculer la déviation standard de la trajectoire\n",
    "tau_z, msd_z = brown.MSD(axis=\"z\")\n",
    "dt_theo = np.linspace(brown.dt*1e-1, brown.dt*brown.Nt*1e1, 100)"
   ]
  },
  {
   "cell_type": "markdown",
   "id": "e2b22d09-f960-437e-9189-fa12daa3d91f",
   "metadata": {},
   "source": [
    "## Equilibrium distribution"
   ]
  },
  {
   "cell_type": "code",
   "execution_count": null,
   "id": "ca890374-49bd-4717-96ef-5bd17b9ec451",
   "metadata": {},
   "outputs": [],
   "source": [
    "# Numerical datas\n",
    "bins=100\n",
    "binsPositions, _, hist_z = brown.logarithmic_hist(position=brown.Zn+brown.H, begin=1e-15, stop=7e-6, num=bins, )\n",
    "pdf = hist_z / np.trapz(hist_z, binsPositions*1e6)"
   ]
  },
  {
   "cell_type": "code",
   "execution_count": null,
   "id": "21ea1e03-63a1-4763-878d-ea2ab0845c6e",
   "metadata": {},
   "outputs": [],
   "source": [
    "# Theoritical datas\n",
    "z_Peq = np.logspace(np.log(1e-20)/np.log(2), np.log(8e-6)/np.log(2), 1000, base=2)\n",
    "epsilon = brown.H*1e-3\n",
    "z_theo = np.linspace(-brown.H-epsilon, brown.H-epsilon, 1000)\n",
    "\n",
    "Peq_normalised = brown.P_eq_Z(z_theo)/np.trapz( brown.P_eq_Z(z_theo) , z_theo)\n",
    "\n",
    "mean_Dx = np.trapz(Peq_normalised*brown.D_x(z_theo), z_theo)\n",
    "mean_Dz = np.trapz(Peq_normalised*brown.D_z(z_theo), z_theo)\n",
    "\n",
    "dz_theo = np.linspace(-2*(brown.H-epsilon), 2*(brown.H-epsilon), 1000)\n",
    "P_dZ_longTime = [np.trapz(brown.P_eq_Z(z_theo)*brown.P_eq_Z(z_theo+dz), z_theo) for dz in dz_theo] #Compute P(dZ) at long time\n",
    "P_dZ_longTime = P_dZ_longTime/np.trapz(P_dZ_longTime, dz_theo)\n",
    "plateauZ = np.trapz(dz_theo**2 * P_dZ_longTime, dz_theo)"
   ]
  },
  {
   "cell_type": "markdown",
   "id": "406cb012-8458-475f-b2e6-b4116804c0a7",
   "metadata": {},
   "source": [
    "## Plots"
   ]
  },
  {
   "cell_type": "code",
   "execution_count": null,
   "id": "706e8e82-c590-4310-86ad-845d1c797b64",
   "metadata": {},
   "outputs": [],
   "source": [
    "plt.figure(figsize=(1.5 * 3.375, 1.5 * 3.375 / 1.68), tight_layout=True)\n",
    "\n",
    "ax2 = plt.subplot(121)\n",
    "ax2.semilogy(binsPositions*1e6, pdf, \"d\", color=\"green\", label=r\"$\\mathrm{Simulation}$\")\n",
    "ax2.plot( z_Peq*1e6, brown.P_eq_Z(z_Peq-brown.H)/np.trapz( brown.P_eq_Z(z_Peq-brown.H) , z_Peq*1e6), \"k-\", label=r\"$\\mathrm{Theory}$\",)\n",
    "ax2.set(\n",
    "    xlabel = r\"$Z_{n}+H~\\mathrm{(\\mu m)}$\", \n",
    "    ylabel = r\"$P_\\mathrm{eq}(Z_n)$\",\n",
    "    xlim = (None,4.5),\n",
    "    ylim = (1e-3,None),\n",
    ")\n",
    "ax2.text(0.85, 0.92, r\"(a)\", transform=ax2.transAxes)\n",
    "\n",
    "\n",
    "ax1 = plt.subplot(122)\n",
    "ax1.loglog(tau_x, msd_x*1e12, \"o\", color=BlueUB)\n",
    "ax1.loglog(tau_z, msd_z*1e12, \"d\", color=\"tab:green\")\n",
    "ax1.plot(dt_theo, 2*mean_Dx*1e12*dt_theo, \"--\", color=\"k\")#mediumblue\n",
    "ax1.plot(dt_theo, 2*mean_Dz*1e12*dt_theo, \"-\", color=\"k\") #darkgreen\n",
    "ax1.plot(np.linspace(10, 10000, 100), plateauZ*1e12*np.ones(100), \":\", color=\"k\")\n",
    "ax1.set(\n",
    "    xlabel = r\"$\\tau ~\\mathrm{(s)}$\",\n",
    "    ylabel = r\"$\\langle (R^{(i)}_n)^2 \\rangle~\\mathrm{(\\mu m)}^2$\",\n",
    "    xlim=(brown.dt/2, brown.dt*brown.Nt),\n",
    "    ylim=(1e-16*1e12, 2e-10*1e12),\n",
    ")\n",
    "ax1.text(0.05, 0.92, r\"(b)\", transform=ax1.transAxes)\n",
    "locmaj = mpl.ticker.LogLocator(base=10.0, subs=(1.0, ), numticks=100)\n",
    "locmin = mpl.ticker.LogLocator(base=10.0, subs=np.arange(2, 10) * .1, numticks=100)\n",
    "ax1.yaxis.set_major_locator(locmaj)\n",
    "ax1.yaxis.set_minor_locator(locmin)\n",
    "ax1.yaxis.set_minor_formatter(mpl.ticker.NullFormatter())\n",
    "\n",
    "locmaj = mpl.ticker.LogLocator(base=10.0, subs=(1.0, ), numticks=100)\n",
    "locmin = mpl.ticker.LogLocator(base=10.0, subs=np.arange(2, 10) * .1, numticks=100)\n",
    "ax1.xaxis.set_major_locator(locmaj)\n",
    "ax1.xaxis.set_minor_locator(locmin)\n",
    "ax1.xaxis.set_minor_formatter(mpl.ticker.NullFormatter())\n",
    "ax1_ticks = ax1.get_xticklabels()\n",
    "for i in ax1_ticks:\n",
    "    i.set_visible(False)\n",
    "for n, i in enumerate(ax1_ticks):\n",
    "    if n%2==0:i.set_visible(True)\n",
    "\n",
    "# plt.savefig(\"Analyse.pdf\")"
   ]
  },
  {
   "cell_type": "code",
   "execution_count": null,
   "id": "a3716ce1-cc56-4eed-b6ce-ee420ebb2de1",
   "metadata": {},
   "outputs": [],
   "source": []
  },
  {
   "cell_type": "code",
   "execution_count": null,
   "id": "2f88df02-aac8-4305-9e02-5d054a58ee21",
   "metadata": {},
   "outputs": [],
   "source": []
  },
  {
   "cell_type": "code",
   "execution_count": null,
   "id": "86a24983-92ab-41fd-a4ae-acbe47e98e63",
   "metadata": {},
   "outputs": [],
   "source": []
  }
 ],
 "metadata": {
  "kernelspec": {
   "display_name": "Python 3 (ipykernel)",
   "language": "python",
   "name": "python3"
  },
  "language_info": {
   "codemirror_mode": {
    "name": "ipython",
    "version": 3
   },
   "file_extension": ".py",
   "mimetype": "text/x-python",
   "name": "python",
   "nbconvert_exporter": "python",
   "pygments_lexer": "ipython3",
   "version": "3.10.0"
  }
 },
 "nbformat": 4,
 "nbformat_minor": 5
}
