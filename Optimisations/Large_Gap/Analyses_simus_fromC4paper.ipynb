{
 "cells": [
  {
   "cell_type": "code",
   "execution_count": null,
   "id": "6b69402f-6a4a-4757-b910-a8476eedbc7f",
   "metadata": {},
   "outputs": [],
   "source": [
    "import numpy as np\n",
    "import matplotlib.pyplot as plt\n",
    "import numpy as np\n",
    "import matplotlib.pyplot as plt\n",
    "import pandas as pd\n",
    "import sys\n",
    "\n",
    "sys.path.append(\"../\")\n",
    "from C4theo_asymptotiqueValue_Calculus import C4_short, C4_long\n",
    "from Physic_function_problem import *\n",
    "import Functions_cythonised\n",
    "\n",
    "from scipy.integrate import quad\n",
    "from scipy.io import loadmat, savemat\n",
    "from scipy.optimize import curve_fit,minimize\n",
    "import matplotlib as mpl\n",
    "from mpl_toolkits.mplot3d import Axes3D\n",
    "from numpy import trapz\n",
    "import matplotlib.gridspec as gridspec\n",
    "from matplotlib.collections import LineCollection\n",
    "from mpltools import annotation\n",
    "import glob\n",
    "\n",
    "def cm2inch(value):\n",
    "    return value / 2.54\n",
    "\n",
    "from tqdm import tqdm\n",
    "\n",
    "\n",
    "from matplotlib import rc\n",
    "import seaborn as sns\n",
    "custom_params = {\n",
    "    \"xtick.direction\": \"in\",\n",
    "    \"ytick.direction\": \"in\",\n",
    "    \"lines.markeredgecolor\": \"k\",\n",
    "    \"lines.markeredgewidth\": 0.3,\n",
    "    \"figure.dpi\": 200,\n",
    "    \"text.usetex\": True,\n",
    "    \"font.family\": \"serif\",\n",
    "    # \"font.size\":8,\n",
    "    # 'axes.titlesize':10,\n",
    "    # 'axes.labelsize':10,\n",
    "}\n",
    "# sns.set_context(\"notebook\", rc={\"lines.linewidth\": 3})\n",
    "\n",
    "\n",
    "sns.set_theme(context = \"paper\", style=\"ticks\", rc=custom_params)\n",
    "\n",
    "BlueUB = (0, 157/255, 224/255)\n",
    "BrownUB = (68/255, 58/255, 49/255)"
   ]
  },
  {
   "cell_type": "markdown",
   "id": "c840552b-132b-4b31-9a5b-c5dd5dc97e25",
   "metadata": {},
   "source": [
    "### Simulations/Experimental parameter"
   ]
  },
  {
   "cell_type": "code",
   "execution_count": null,
   "id": "265286e5-5fb8-4071-b9f2-432fa29b20fd",
   "metadata": {},
   "outputs": [],
   "source": [
    "a = 1.519e-6 #1.12e-6/2\n",
    "H = 40e-6\n",
    "lD = 88.0e-9 #Répultion mur\n",
    "kBT=1.38e-23*300\n",
    "lB = 526e-9 #gravité\n",
    "B = 5.0\n",
    "eta=0.001\n",
    "\n",
    "zz = np.linspace(-H+H*1e-4, H-H*1e-4, 1000)\n",
    "\n",
    "H = 40e-6\n",
    "lD = 88.0e-9 #Répultion mur\n",
    "kBT=1.38e-23*300\n",
    "lB = 526e-9 #gravité\n",
    "B = 5.0\n",
    "eta=0.001\n",
    "\n",
    "dt = 1e-2\n",
    "Nt = 100000\n",
    "Nt_sub = 1\n",
    "tt = np.linspace(dt, dt*Nt, Nt)"
   ]
  },
  {
   "cell_type": "markdown",
   "id": "87a9e501-881e-437d-9e92-54c4c21119ff",
   "metadata": {},
   "source": [
    "### Some functions to analyse"
   ]
  },
  {
   "cell_type": "code",
   "execution_count": null,
   "id": "78e253af-be12-4439-90db-7f78c8be3747",
   "metadata": {},
   "outputs": [],
   "source": [
    "def logarithmic_hist(data: np.ndarray, begin: float, stop: float, num: int = 50, base: int = 10) -> (np.ndarray, np.ndarray, np.ndarray):\n",
    "        \"\"\"Function to compute a pdf using  logspaced bins\"\"\"\n",
    "        if begin == 0:\n",
    "            beg = stop / num\n",
    "            bins = np.logspace(\n",
    "                np.log(beg) / np.log(base),\n",
    "                np.log(stop) / np.log(base),\n",
    "                num - 1,\n",
    "                base=base,\n",
    "            )\n",
    "            widths = bins[1:] - bins[:-1]\n",
    "            bins = np.cumsum(widths[::-1])\n",
    "            bins = np.concatenate(([0], bins))\n",
    "            widths = bins[1:] - bins[:-1]\n",
    "\n",
    "        else:\n",
    "            bins = np.logspace(\n",
    "                np.log(begin) / np.log(base),\n",
    "                np.log(stop) / np.log(base),\n",
    "                num,\n",
    "                base=base,\n",
    "            )\n",
    "            widths = bins[1:] - bins[:-1]\n",
    "\n",
    "        hist, bins = np.histogram(data, bins=bins, density=True)\n",
    "        # normalize by bin width\n",
    "        bins_center = (bins[1:] + bins[:-1]) / 2\n",
    "\n",
    "        return bins_center, widths, hist"
   ]
  },
  {
   "cell_type": "markdown",
   "id": "d69becbe-c2c3-4ebe-8505-57215393e50d",
   "metadata": {},
   "source": [
    "### Theoritical values"
   ]
  },
  {
   "cell_type": "code",
   "execution_count": null,
   "id": "948293f2-0bfc-437d-af16-01b383ed47d8",
   "metadata": {
    "tags": []
   },
   "outputs": [],
   "source": [
    "mean_Dx = np.trapz(P_eq(zz, B, lD, lB, H)/np.trapz(P_eq(zz, B, lD, lB, H), zz)*D_x(zz, a, eta, H), zz)\n",
    "mean_Dz = np.trapz(P_eq(zz, B, lD, lB, H)/np.trapz(P_eq(zz, B, lD, lB, H), zz)*D_z(zz, a, eta, H), zz)"
   ]
  },
  {
   "cell_type": "code",
   "execution_count": null,
   "id": "8a488c5c-6e43-42cf-9545-d65e9f7060f9",
   "metadata": {
    "tags": []
   },
   "outputs": [],
   "source": [
    "N_tau = 1\n",
    "\n",
    "\n",
    "##THEORIE\n",
    "\n",
    "dXX = np.linspace(-0.5, +0.5, 1000)\n",
    "PDF_theory_x = P_Di_short_time(dXX*1e-6, dt*N_tau, D_x, a, eta, B, lD, lB, H)\n",
    "\n",
    "dZZ = np.linspace(-0.8, +0.8, 1000)\n",
    "PDF_theory_z = P_Di_short_time(dZZ*1e-6, dt*N_tau, D_z, a, eta, B, lD, lB, H)"
   ]
  },
  {
   "cell_type": "code",
   "execution_count": null,
   "id": "2924412b-4367-4c70-8a88-c2d4a65d4240",
   "metadata": {},
   "outputs": [],
   "source": [
    "dZZ_long = np.linspace(-2*(H), 2*(H), 10000)\n",
    "PDF_theory_z_long = Pdeltaz_long(dZZ_long, B, lD, lB, H)\n",
    "\n",
    "\n",
    "plateau = np.trapz(dZZ_long**2 * PDF_theory_z_long, dZZ_long)\n",
    "\n",
    "plateauC4z = np.trapz(dZZ_long**4 * PDF_theory_z_long, dZZ_long)\n",
    "plateauC4z = np.trapz(dZZ_long**4 * PDF_theory_z_long , dZZ_long) - 3 * np.trapz(dZZ_long**2 * PDF_theory_z_long , dZZ_long) ** 2 "
   ]
  },
  {
   "cell_type": "code",
   "execution_count": null,
   "id": "1049b478-41d0-434e-8205-fc4b2af3b23f",
   "metadata": {},
   "outputs": [],
   "source": [
    "np.sqrt(plateau)*1e6"
   ]
  },
  {
   "cell_type": "code",
   "execution_count": null,
   "id": "80a9b31b-04cb-4d28-aa02-0a5dd8a53247",
   "metadata": {
    "tags": []
   },
   "outputs": [],
   "source": [
    "D4_long_theo = 1.2691e-27 #1.5074e-27\n",
    "C4_long_theo = 1.0350e-26 #1.4039e-26\n",
    "A4_theo_x = C4_court(D=D_para, Peq=P_eq, kBT=kBT, B=B, lD=lD, lB=lB, H=H, a=a, eta=eta, dx=1e-8)\n",
    "A4_theo_z = C4_court(D=D_perp, Peq=P_eq, kBT=kBT, B=B, lD=lD, lB=lB, H=H, a=a, eta=eta, dx=1e-8)\n",
    "\n",
    "t_short = np.linspace(1e-4, 50, 1000)\n",
    "t_long = np.linspace(20, 1e5, 1000)"
   ]
  },
  {
   "cell_type": "markdown",
   "id": "4f3f4399-239a-4faa-8cf8-046746ab4425",
   "metadata": {},
   "source": [
    "# Datas"
   ]
  },
  {
   "cell_type": "code",
   "execution_count": null,
   "id": "fe9153dc-dcbb-4800-9f41-65742c23466f",
   "metadata": {
    "tags": []
   },
   "outputs": [],
   "source": [
    "# X datas\n",
    "Datas_parquet = \"../C4_Datas/convergence_7_50_sigma__lD_8p800000e-08_lB_5p260000e-07_B_5p000000e+00_H_4p000000e-05_a_1p519000e-06_dt_1p000000e-02_Nt_1000000_Ntsub_1_/\"\n",
    "\n",
    "dt = float(Datas_parquet.replace(\"p\", \".\").split(\"_\")[-6])\n",
    "\n",
    "# #Récupération des datas\n",
    "# pd.read_parquet(Datas_parquet+'/1', engine='pyarrow')\n",
    "files=glob.glob(Datas_parquet+\"/*\")\n",
    "\n",
    "# # Les mettres dans l'ordre\n",
    "Ntime = []\n",
    "for i in files:\n",
    "    Ntime.append(int(i.split(\"/\")[-1]))\n",
    "I=np.argsort(Ntime)\n",
    "files = [files[i] for i in I]\n",
    "Ntime = np.sort(Ntime)\n",
    "\n",
    "np.shape(files), Ntime"
   ]
  },
  {
   "cell_type": "code",
   "execution_count": null,
   "id": "70291101-0de2-4014-866c-9006371792e5",
   "metadata": {},
   "outputs": [],
   "source": [
    "# Z datas\n",
    "datasZnpy = '../C4_Datas/PDFz_Ns100.npy'\n",
    "SumHistZ_Ns100 = np.load(datasZnpy) #PDF(\\tau, \\Delta Z) sum over 100 trajectories\n",
    "Ntau, bins = np.shape(SumHistZ_Ns100)\n",
    "Ns = 100\n",
    "\n",
    "list_Ntau = np.logspace(np.log(1)/np.log(10), np.log(1000001)/np.log(10),120).astype(int)\n",
    "list_Ntau = np.unique(list_Ntau)\n",
    "tau_z = np.array(list_Ntau) * dt #list of lag time to cumpue C4\n",
    "\n",
    "\n",
    "listdZ = np.zeros([Ntau,bins])\n",
    "D_0 = kBT/(6*np.pi*eta*a)\n",
    "for n, i in enumerate(list_Ntau):\n",
    "    tau = dt*i\n",
    "    if tau<50:\n",
    "        Sigma = np.sqrt(2*D_0*tau)\n",
    "        listdZ[n,:] = np.linspace(-6*Sigma,+6*Sigma, bins)\n",
    "    else:\n",
    "        listdZ[n,:] = np.linspace(-15e-6, 15e-6, bins)"
   ]
  },
  {
   "cell_type": "code",
   "execution_count": null,
   "id": "f28856df-4525-4307-bec3-92bbdb496517",
   "metadata": {
    "tags": []
   },
   "outputs": [],
   "source": [
    "# # Z datas (À SUPPRIMER)\n",
    "# Datas_parquet_z = \"../C4_Datas/z_convergence_7_50_sigma__lD_8p800000e-08_lB_5p260000e-07_B_5p000000e+00_H_4p000000e-05_a_1p519000e-06_dt_1p000000e-02_Nt_1000000_Ntsub_1_/\"\n",
    "\n",
    "# #Take datas\n",
    "# files_z=glob.glob(Datas_parquet_z+\"/*\")\n",
    "# #Ordering datas\n",
    "# Ntime_z = []\n",
    "# for i in files_z:\n",
    "#     Ntime_z.append(int(i.split(\"/\")[-1]))\n",
    "# I=np.argsort(Ntime_z)\n",
    "# files_z = [files_z[i] for i in I]\n",
    "# Ntime_z = np.sort(Ntime_z)\n",
    "# np.shape(Ntime_z), Ntime_z"
   ]
  },
  {
   "cell_type": "code",
   "execution_count": null,
   "id": "6977008d-8c49-4682-8452-c01d5a17e047",
   "metadata": {},
   "outputs": [],
   "source": [
    "# del Datas_parquet, Datas_parquet_z"
   ]
  },
  {
   "cell_type": "code",
   "execution_count": null,
   "id": "3f0184ea-cf97-4204-ae59-6928fa92d726",
   "metadata": {},
   "outputs": [],
   "source": []
  },
  {
   "cell_type": "markdown",
   "id": "084b095a-604e-406e-ac67-f8306e729954",
   "metadata": {},
   "source": [
    "## MSD à partir des datas du papiers C4"
   ]
  },
  {
   "cell_type": "code",
   "execution_count": null,
   "id": "4b6010dd-4780-48ad-895e-fbfc55d33225",
   "metadata": {},
   "outputs": [],
   "source": [
    "tau_theo = np.logspace(-3,4, 100)"
   ]
  },
  {
   "cell_type": "code",
   "execution_count": null,
   "id": "67a0e126-fab0-45da-81ba-3da75eb65cec",
   "metadata": {},
   "outputs": [],
   "source": [
    "# MSDx\n",
    "dt = np.array(float(Datas_parquet.replace(\"p\", \".\").split(\"_\")[-6]))\n",
    "Nt = np.array(float(Datas_parquet.replace(\"p\", \".\").split(\"_\")[-4]))\n",
    "tau_x = Ntime*dt\n",
    "\n",
    "tau_theo = np.linspace(1e-4, 1e4, 100)"
   ]
  },
  {
   "cell_type": "code",
   "execution_count": null,
   "id": "4e9fd4e1-b620-4e83-8892-e8eabd5ae409",
   "metadata": {},
   "outputs": [],
   "source": [
    "# Moments = {}\n",
    "# Moments[\"tau_x\"] = tau_x\n",
    "Moments[\"tau_z\"] = tau_z"
   ]
  },
  {
   "cell_type": "code",
   "execution_count": null,
   "id": "244038d8-4d1b-4c61-9826-97213f189f22",
   "metadata": {},
   "outputs": [],
   "source": [
    "m = 2 #Choose order of moment\n",
    "axe = \"x\" #Choose axis\n",
    "key = \"<\"+str(axe)+str(m)+\">\"\n",
    "Moments[key] = np.zeros(len(files))\n",
    "\n",
    "for n, i in enumerate(tqdm(files)): #loop for all time \\tau\n",
    "    datas = pd.read_parquet(i)\n",
    "    dx = np.array(datas.columns).astype(float)\n",
    "    #Average over Ns distributions\n",
    "    datas = datas.to_numpy()\n",
    "    datas = np.sum(datas, axis=0)\n",
    "    datas = datas / np.trapz(datas, dx)\n",
    "    #Comupte <X^m>(\\tau)\n",
    "    Moments[key][n] = (np.trapz(dx**m *datas, dx))\n"
   ]
  },
  {
   "cell_type": "code",
   "execution_count": null,
   "id": "c634142b-17da-466b-aca7-9b142395efa3",
   "metadata": {},
   "outputs": [],
   "source": [
    "m = 2 #Choose order of moment\n",
    "axe = \"z\" #Choose axis\n",
    "key = \"<\"+str(axe)+str(m)+\">\"\n",
    "Moments[key] = np.zeros(len(list_Ntau))\n",
    "for n, i in enumerate(list_Ntau[:-1]):\n",
    "    dZ = listdZ[n,:]\n",
    "    tau = i*dt\n",
    "    PDFs_z = SumHistZ_Ns100[n,:] / np.trapz(SumHistZ_Ns100[n,:], dZ) #Normalised\n",
    "    Moments[key][n] = (np.trapz(dZ**m *PDFs_z, dZ))\n",
    "\n"
   ]
  },
  {
   "cell_type": "code",
   "execution_count": null,
   "id": "66e975f7-e8a1-4188-9237-e5836c175661",
   "metadata": {},
   "outputs": [],
   "source": [
    "plt.figure(figsize=(3.375, 2*3.375 / 1.68), tight_layout=True)\n",
    "\n",
    "ax1 = plt.subplot(211)\n",
    "ax1.loglog(Moments[\"tau_x\"], Moments[\"<x2>\"], \"o\", color=BlueUB)\n",
    "ax1.plot(tau_theo, 2*mean_Dx*tau_theo, \"--\", color=\"k\")\n",
    "ax1.loglog(Moments[\"tau_z\"], Moments[\"<z2>\"] , \"d\", color=\"tab:green\")\n",
    "ax1.plot(tau_theo, 2*mean_Dz*tau_theo, \"-\", color=\"k\") \n",
    "ax1.plot(np.linspace(10, 10000, 100), plateau*np.ones(100), \":\", color=\"k\")\n",
    "ax1.set(\n",
    "    # xlabel = r\"$\\tau ~\\mathrm{(s)}$\",\n",
    "    ylabel = r\"$MSD~\\mathrm{(\\mu m)}^2$\",\n",
    "    xlim=(dt/2, dt*Nt/10),\n",
    "    # ylim=(1e-16*1e12, 2e-10*1e12),\n",
    ")"
   ]
  },
  {
   "cell_type": "code",
   "execution_count": null,
   "id": "96828057-cc12-457c-b9ad-b7a425920d40",
   "metadata": {},
   "outputs": [],
   "source": [
    "# from scipy.io import savemat\n",
    "# Moments['PARAMETRES:_a_eta_H_lD_lB_B_Nt_Ntsub_Ns'] = np.array([a, eta, H, lD, lB, B, Nt, Nt_sub, Ns])\n",
    "\n",
    "# savemat(\"../Large_Gap/SIMU_Moments_Nt_1e6_dt_1e-2.mat\", Moments)"
   ]
  },
  {
   "cell_type": "markdown",
   "id": "551f03c9-e585-41c1-b033-973c58a7a224",
   "metadata": {},
   "source": [
    "# Cumulant"
   ]
  },
  {
   "cell_type": "code",
   "execution_count": null,
   "id": "713a69f0-3233-4e58-929d-61bebe47ed67",
   "metadata": {},
   "outputs": [],
   "source": [
    "Cumulant4 = {}\n",
    "Cumulant4[\"<x4>\"] = np.zeros(len(files))\n",
    "Cumulant4[\"<z4>\"] = np.zeros(len(list_Ntau))"
   ]
  },
  {
   "cell_type": "code",
   "execution_count": null,
   "id": "6e89d31b-a4b9-4cff-b5ab-14d80984a8c6",
   "metadata": {},
   "outputs": [],
   "source": [
    "for n, i in enumerate(tqdm(files)): #loop for all time \\tau\n",
    "    datas = pd.read_parquet(i)\n",
    "    dx = np.array(datas.columns).astype(float)\n",
    "    #Average over Ns distributions\n",
    "    datas = datas.to_numpy()\n",
    "    datas = np.sum(datas, axis=0)\n",
    "    datas = datas / np.trapz(datas, dx)\n",
    "    #Comupte cumualnt\n",
    "    Cumulant4[\"<x4>\"][n] = (np.trapz(dx**4 *datas, dx)) - 3 * (np.trapz(dx**2 *datas, dx))**2"
   ]
  },
  {
   "cell_type": "code",
   "execution_count": null,
   "id": "c1f0722f-4292-41e7-afbe-ffaa3c811fea",
   "metadata": {},
   "outputs": [],
   "source": [
    "for n, i in enumerate(list_Ntau[:-1]):\n",
    "    dZ = listdZ[n,:]\n",
    "    tau = i*dt\n",
    "    PDFs_z = SumHistZ_Ns100[n,:] / np.trapz(SumHistZ_Ns100[n,:], dZ) #Normalised\n",
    "    Cumulant4[\"<z4>\"][n] = (np.trapz(dZ**4 *PDFs_z, dZ)) - 3 * (np.trapz(dZ**2 *PDFs_z, dZ))**2\n",
    "\n"
   ]
  },
  {
   "cell_type": "code",
   "execution_count": null,
   "id": "fd3fcad7-1696-47d2-ac87-a44f4a5408f5",
   "metadata": {},
   "outputs": [],
   "source": [
    "plt.figure(figsize=(3.375, 3.375 / 1.68), tight_layout=True)\n",
    "\n",
    "\n",
    "plt.loglog(tau_x, Cumulant4[\"<x4>\"], \"o\")\n",
    "plt.loglog(tau_z, Cumulant4[\"<z4>\"], \"d\")\n"
   ]
  },
  {
   "cell_type": "code",
   "execution_count": null,
   "id": "c21b59f6-b9ba-44da-89f5-5a3c08fd7976",
   "metadata": {},
   "outputs": [],
   "source": []
  },
  {
   "cell_type": "markdown",
   "id": "a9b45053-d230-4db2-902a-87ec3f916b8b",
   "metadata": {},
   "source": [
    "# Methode $2$ to compute"
   ]
  },
  {
   "cell_type": "code",
   "execution_count": null,
   "id": "769045b5-d95e-4b80-adde-764dbff30e5f",
   "metadata": {},
   "outputs": [],
   "source": [
    "# # Calcul C4 avec MÉTHODE_2 PDF -> C4 -> <C4>\n",
    "# Cumulant4[\"<x4> by avering over Ns <x4>\"] = np.zeros(len(files))\n",
    "# for n, i in enumerate(tqdm(files)): #loop for all time \\tau\n",
    "#     datas = pd.read_parquet(i)\n",
    "#     dx = np.array(datas.columns).astype(float)\n",
    "#     #Average over Ns distributions\n",
    "#     datas = datas.to_numpy()\n",
    "#     tampon = []\n",
    "#     for j in (range(len(datas[:,0]))):\n",
    "#         if sum(datas[j, :]) != 0:\n",
    "#             #Calcul of cumulant on jth PDF\n",
    "#             PDF = datas[j,:] / np.trapz(datas[j,:], dx)\n",
    "#             tampon.append( np.trapz(dx**4 *PDF, dx) - 3* (np.trapz(dx**2 * PDF, dx))**2 )\n",
    "    \n",
    "#     #Mean over Ns cumulants\n",
    "#     Cumulant4[\"<x4> by avering over Ns <x4>\"][n] = np.mean(tampon)\n",
    "\n",
    "    \n",
    "# del tampon\n",
    "# del PDF"
   ]
  },
  {
   "cell_type": "code",
   "execution_count": null,
   "id": "32f463b3-6f8c-4211-9d7c-a989281e0a1e",
   "metadata": {},
   "outputs": [],
   "source": [
    "# from scipy.io import loadmat\n",
    "\n",
    "# Cumulant_ = loadmat(\"../Large_Gap/SIMU_Cumulants_Nt_1e6_dt_1e-2.mat\", squeeze_me=True)\n",
    "# del Cumulant_"
   ]
  },
  {
   "cell_type": "code",
   "execution_count": null,
   "id": "32ed1def-a25c-4bd7-87aa-3173c4cad1ce",
   "metadata": {},
   "outputs": [],
   "source": [
    "# Cumulant4[\"<x4> by avering over Ns <x4>\"] = Cumulant_['<x4> by avering over Ns <x4>']"
   ]
  },
  {
   "cell_type": "code",
   "execution_count": null,
   "id": "a9974957-3833-4789-aa37-8f4fde8b2948",
   "metadata": {},
   "outputs": [],
   "source": [
    "plt.figure(figsize=(3.375, 3.375 / 1.68), tight_layout=True)\n",
    "\n",
    "plt.loglog(tau_x, Cumulant4[\"<x4>\"], \"o\")\n",
    "plt.loglog(tau_x, Cumulant4[\"<x4> by avering over Ns <x4>\"], \"^\")\n"
   ]
  },
  {
   "cell_type": "code",
   "execution_count": null,
   "id": "c02540a2-5922-4950-8927-b479311b3f00",
   "metadata": {},
   "outputs": [],
   "source": [
    "from scipy.io import savemat\n",
    "Cumulant4['PARAMETRES:_a_eta_H_lD_lB_B_Nt_Ntsub'] = np.array([a, eta, H, lD, lB, B, Nt, Nt_sub])\n",
    "Cumulant4[\"tau_x\"] = tau_x\n",
    "Cumulant4[\"tau_z\"] = tau_z\n",
    "Cumulant4[\"Origine_datas_(X,Z)\"] = Datas_parquet, datasZnpy\n",
    "savemat(\"../Large_Gap/SIMU_Cumulants_Nt_1e6_dt_1e-2.mat\", Cumulant4)"
   ]
  },
  {
   "cell_type": "markdown",
   "id": "26932f50-be78-4166-9815-8fd316bc29f6",
   "metadata": {},
   "source": [
    "# CALCUL Kurtosis"
   ]
  },
  {
   "cell_type": "code",
   "execution_count": null,
   "id": "dff8925d-11aa-479f-9f24-67bc0ecea661",
   "metadata": {
    "tags": []
   },
   "outputs": [],
   "source": [
    "Kurtosis = {}\n",
    "Kurtosis[\"x\"] = np.zeros(len(files))\n",
    "for n,i in enumerate(tqdm(files)):\n",
    "    datas = pd.read_parquet(i)\n",
    "    dx = np.array(datas.columns).astype(float)\n",
    "    \n",
    "    #Moyenne des PDFs\n",
    "    datas = datas.to_numpy()\n",
    "    datas = np.sum(datas, axis=0)\n",
    "    datas = datas / np.trapz(datas, dx)\n",
    "    \n",
    "    #Kurtosis\n",
    "    Kurtosis[\"x\"][n] = (np.trapz(dx**4 *datas, dx)/(np.trapz(dx**2 * datas, dx)**2) - 3)\n",
    "\n"
   ]
  },
  {
   "cell_type": "code",
   "execution_count": null,
   "id": "a61c9dd0-c6af-43de-a6d7-25fe4c16d90b",
   "metadata": {},
   "outputs": [],
   "source": [
    "Kurtosis['PARAMETRES:_a_eta_H_lD_lB_B_Nt_Ntsub'] = np.array([a, eta, H, lD, lB, B, Nt, Nt_sub])\n",
    "Kurtosis[\"tau_x\"] = tau_x\n",
    "savemat(\"../C4_Datas/SIMU_Kurtosis_Nt_1e6_dt_1e-2.mat\", Kurtosis)"
   ]
  },
  {
   "cell_type": "markdown",
   "id": "cf115a87-ba47-4787-a5f3-a36f17ec3620",
   "metadata": {},
   "source": [
    "# PDFs at $\\tau_0$, $\\tau_\\mathrm{mid}$, $\\tau_\\mathrm{long}$ & $\\tau_\\infty$"
   ]
  },
  {
   "cell_type": "code",
   "execution_count": null,
   "id": "12e41dd9-8861-4c1c-b688-aa8a3e0d90b1",
   "metadata": {},
   "outputs": [],
   "source": [
    "n_court = 0\n",
    "n_mid = -17\n",
    "n_long = -11\n",
    "n_inf = -8\n",
    "n_list = np.array([n_court, n_mid, n_long, n_inf], dtype=int)"
   ]
  },
  {
   "cell_type": "code",
   "execution_count": null,
   "id": "5ea5db82-0cde-467f-9bdc-55b77f48cd7e",
   "metadata": {},
   "outputs": [],
   "source": [
    "n_court_z = 0\n",
    "n_mid_z = -53\n",
    "n_long_z = -41\n",
    "n_inf_z = -35\n",
    "n_list_z = np.array([n_court_z, n_mid_z, n_long_z, n_inf_z], dtype=int)"
   ]
  },
  {
   "cell_type": "code",
   "execution_count": null,
   "id": "06797493-3e29-4e6b-9019-dc5656a36d1d",
   "metadata": {},
   "outputs": [],
   "source": [
    "# Selection \\tau for X datas\n",
    "FilesX_selec = []\n",
    "for n in n_list:\n",
    "    FilesX_selec.append(files[n])\n",
    "\n",
    "# Take datas\n",
    "datasX_selec = {}\n",
    "for i in FilesX_selec:\n",
    "    name = i.split(\"/\")[-1]\n",
    "    datasX_selec[name] = pd.read_parquet(i)\n",
    "\n",
    "Ntau_x_selec = list(datasX_selec.keys())\n",
    "\n",
    "# Removings 0 lines\n",
    "for i in Ntau_x_selec:\n",
    "    datasX_selec[i] = datasX_selec[i].loc[datasX_selec[i].sum(axis = 1) != 0]\n"
   ]
  },
  {
   "cell_type": "code",
   "execution_count": null,
   "id": "46d26b92-c4a2-4940-a077-5425e327932a",
   "metadata": {},
   "outputs": [],
   "source": [
    "Hist = {}\n",
    "Hist['PARAMETRES:_a_eta_H_lD_lB_B_Nt_Ntsub'] = np.array([a, eta, H, lD, lB, B, Nt, Nt_sub])\n",
    "Hist[\"tau_x_selec\"] = np.array(list(map(float, Ntau_x_selec)) ) * dt\n",
    "Hist[\"Datas_origines [x,z]\"] = Datas_parquet, datasZnpy\n",
    "\n",
    "for n,i in enumerate(Ntau_x_selec):#FOR X\n",
    "    key_x = \"dx_\"+str(n)+ \", Sum_Hist_x\"+str(n)\n",
    "    Hist[key_x] = [np.array(datasX_selec[i].columns).astype(float), datasX_selec[i].to_numpy()]\n",
    "    Hist[key_x][1] = np.sum(Hist[key_x][1], axis=0) #Sum to concerve counts"
   ]
  },
  {
   "cell_type": "code",
   "execution_count": null,
   "id": "91513784-9496-483e-b69b-b283d41b5ddf",
   "metadata": {},
   "outputs": [],
   "source": [
    "for n,i in enumerate(n_list_z): #FOR Z\n",
    "    key_z = \"dz_\"+str(n)+ \", Sum_Hist_z\"+str(n)\n",
    "    Hist[key_z] = np.zeros([bins,bins])\n",
    "    Hist[key_z] = listdZ[i], SumHistZ_Ns100[i]\n",
    "\n",
    "Hist[\"tau_z_selec\"] = list_Ntau[n_list_z]*dt"
   ]
  },
  {
   "cell_type": "code",
   "execution_count": null,
   "id": "62e76984-16f1-43f1-a73b-de62134f98a5",
   "metadata": {},
   "outputs": [],
   "source": [
    "dz_0, SumHist_z0 = Hist['dz_0, Sum_Hist_z0']\n",
    "dz_1, SumHist_z1 = Hist['dz_1, Sum_Hist_z1']\n",
    "dz_2, SumHist_z2 = Hist['dz_2, Sum_Hist_z2']\n",
    "dz_3, SumHist_z3 = Hist['dz_3, Sum_Hist_z3']"
   ]
  },
  {
   "cell_type": "code",
   "execution_count": null,
   "id": "5827d3e3-510c-41c1-8941-420184f24e81",
   "metadata": {},
   "outputs": [],
   "source": [
    "dxCOURT = np.linspace(-0.4e-6, 0.4e-6, 1000)\n",
    "dxLONG = np.linspace(-60e-6, 60e-6, 1000)\n",
    "dzCOURT = np.linspace(-0.4e-6, 0.4e-6, 1000)\n",
    "dzLONG = np.linspace(-2*H, 2*H, 1000)\n",
    "\n",
    "dtsX = Hist[\"tau_x_selec\"] \n",
    "dtsZ = Hist[\"tau_z_selec\"] \n",
    "\n",
    "## Gaussian theories\n",
    "Gauss_x0 = gauss(dxCOURT, 0, np.sqrt(2*mean_Dx*dtsX[0]))\n",
    "Gauss_z0 = gauss(dzCOURT, 0, np.sqrt(2*mean_Dz*dtsZ[0]))\n",
    "Gauss_x2 = gauss(dxLONG, 0, np.sqrt(2*mean_Dx*dtsX[2]))\n"
   ]
  },
  {
   "cell_type": "code",
   "execution_count": null,
   "id": "e4e90af9-ef5d-4792-861e-93104a3beba1",
   "metadata": {},
   "outputs": [],
   "source": []
  },
  {
   "cell_type": "code",
   "execution_count": null,
   "id": "2b004efb-9d79-4ae1-a728-fc1b68169024",
   "metadata": {},
   "outputs": [],
   "source": []
  },
  {
   "cell_type": "code",
   "execution_count": null,
   "id": "90de70fd-818c-47c7-80bd-7e0521e279e7",
   "metadata": {},
   "outputs": [],
   "source": [
    "# Theory along Z\n",
    "PDF_theory_z_short = P_Di_short_time(dzCOURT, dtsZ[0], D_z, a, eta, B, lD, lB, H)\n",
    "PDF_theory_z_long = Pdeltaz_long(dzLONG, B, lD, lB, H)"
   ]
  },
  {
   "cell_type": "code",
   "execution_count": null,
   "id": "2f2a5b4e-e530-4d31-8791-1009f3c83f1e",
   "metadata": {},
   "outputs": [],
   "source": [
    "savemat(\"SIMU-SumHist_Ns-x_2097378_Ns-z_100_Nt_1e6_dt_1e-2_For4TimesTau.mat\", Hist)"
   ]
  },
  {
   "cell_type": "code",
   "execution_count": null,
   "id": "69929396-67d7-4097-a28c-cb39d49f3d59",
   "metadata": {},
   "outputs": [],
   "source": [
    "plt.figure(figsize=(1.8 * 3.375, 1.4 * 3.375 / 1.68), tight_layout=True)\n",
    "taille_marque = 6\n",
    "taille_ligne = 2\n",
    "\n",
    "\n",
    "#####################\n",
    "ax2 = plt.subplot(121)#Short Z\n",
    "ax2.plot(dzCOURT*1e6, Gauss_z0/np.trapz(Gauss_z0,dzCOURT*1e6), \"--\", color=\"tab:olive\", linewidth=taille_ligne)\n",
    "ax2.semilogy(dz_0*1e6,SumHist_z0/np.trapz(SumHist_z0,dz_0*1e6), \"d\", color=\"tab:green\", markersize=taille_marque)\n",
    "ax2.semilogy(dzCOURT*1e6, PDF_theory_z_short/np.trapz(PDF_theory_z_short, dzCOURT*1e6), \"k-\", linewidth=1.5)\n",
    "ax2.set(\n",
    "    ylabel = r\"$P(\\Delta Z, \\tau)~(\\mathrm{\\mu m})^{-1}$\",\n",
    "    xlabel = r\"$\\Delta Z~\\mathrm{(\\mu m)}$\", \n",
    "    xlim = (-0.3, 0.3),\n",
    "    ylim = (1e-10, 5e1),\n",
    ")\n",
    "ax2.text(0.08, 0.9, r\"(a)\", transform=ax2.transAxes)\n",
    "ax2.text(0.7, 0.9, r\"$\\tau_0= $ \"+ str(dtsZ[0]) + \" s\", fontsize=9, transform=ax2.transAxes)\n",
    "locmaj = mpl.ticker.LogLocator(base=10.0, subs=(1.0, ), numticks=100)\n",
    "# locmin = mpl.ticker.LogLocator(base=10.0, subs=np.arange(2, 10) * .1, numticks=100)\n",
    "ax2.yaxis.set_major_locator(locmaj)\n",
    "ax2.yaxis.set_minor_locator(locmin)\n",
    "ax2.yaxis.set_minor_formatter(mpl.ticker.NullFormatter())\n",
    "ax2_ticks = ax2.get_yticklabels()\n",
    "for i in ax2_ticks:\n",
    "    i.set_visible(False)\n",
    "for n, i in enumerate(ax2_ticks):\n",
    "    if n%2==0:i.set_visible(True)\n",
    "\n",
    "#####################\n",
    "ax4 = plt.subplot(122)#Long Z\n",
    "ax4.semilogy(dz_2*1e6,SumHist_z2/np.trapz(SumHist_z2,dz_2*1e6), \"d\", color=\"tab:green\", markersize=taille_marque)\n",
    "ax4.semilogy(dzLONG*1e6, PDF_theory_z_long/np.trapz(PDF_theory_z_long, dzLONG*1e6), \"k-\", linewidth=1.5)\n",
    "ax4.set(\n",
    "    xlabel = r\"$\\Delta Z~\\mathrm{(\\mu m)}$\", \n",
    "    xlim = (-12,12),\n",
    "    ylim = (1e-9,1e0),\n",
    ")\n",
    "ax4.text(0.08, 0.9, r\"(b)\", transform=ax4.transAxes)\n",
    "ax4.text(0.7, 0.9, r\"$\\tau_\\infty = $ \"+ str(dtsZ[2]) + \" s\", fontsize=9, transform=ax4.transAxes)\n",
    "locmaj = mpl.ticker.LogLocator(base=10.0, subs=(1.0, ), numticks=100)\n",
    "# locmin = mpl.ticker.LogLocator(base=10.0, subs=np.arange(2, 10) * .1, numticks=100)\n",
    "ax4.yaxis.set_major_locator(locmaj)\n",
    "ax4.yaxis.set_minor_locator(locmin)\n",
    "ax4.yaxis.set_minor_formatter(mpl.ticker.NullFormatter())\n",
    "ax4_ticks = ax4.get_yticklabels()\n",
    "for i in ax4_ticks:\n",
    "    i.set_visible(False)\n",
    "for n, i in enumerate(ax4_ticks):\n",
    "    if n%2==0:i.set_visible(True)\n"
   ]
  },
  {
   "cell_type": "code",
   "execution_count": null,
   "id": "4fc3d907-6749-4304-b2d8-eba797d9a30a",
   "metadata": {},
   "outputs": [],
   "source": []
  },
  {
   "cell_type": "code",
   "execution_count": null,
   "id": "8ee064a8-0540-4e08-836a-ee9feb99e937",
   "metadata": {},
   "outputs": [],
   "source": []
  },
  {
   "cell_type": "code",
   "execution_count": null,
   "id": "9449ae0d-81ee-4a3a-962f-4e8b3967373e",
   "metadata": {},
   "outputs": [],
   "source": []
  },
  {
   "cell_type": "markdown",
   "id": "e6ff7204-e608-4b1c-b7cf-d0068b84608f",
   "metadata": {},
   "source": [
    "# -----------------"
   ]
  },
  {
   "cell_type": "markdown",
   "id": "e261332d-95cb-4ea6-9f44-2bba08c0f884",
   "metadata": {},
   "source": [
    "# Cumulant 4"
   ]
  },
  {
   "cell_type": "code",
   "execution_count": null,
   "id": "93d7d73b-6081-4194-aa3f-d0945bda353f",
   "metadata": {
    "tags": []
   },
   "outputs": [],
   "source": [
    "dt = np.array(float(Datas_parquet_z.replace(\"p\", \".\").split(\"_\")[-6]))\n",
    "tau_x = Ntime*dt\n",
    "tau_z= Ntime_z*dt\n"
   ]
  },
  {
   "cell_type": "code",
   "execution_count": null,
   "id": "46ccf0c3-7c92-4246-ae05-4c280e1d8603",
   "metadata": {},
   "outputs": [],
   "source": []
  },
  {
   "cell_type": "code",
   "execution_count": null,
   "id": "470fd7f0-fc04-4a73-b700-ab95fcdc0715",
   "metadata": {},
   "outputs": [],
   "source": [
    "data_x0 = pd.read_parquet(files[0])\n",
    "data_z0 = pd.read_parquet(files_z[0])\n",
    "\n",
    "np.shape(data_x0), np.shape(data_x0) \n",
    "\n"
   ]
  },
  {
   "cell_type": "markdown",
   "id": "d047f843-2516-46b5-9ccc-af541e1e0f5b",
   "metadata": {},
   "source": [
    "# CALCUL C4_x"
   ]
  },
  {
   "cell_type": "code",
   "execution_count": null,
   "id": "f0688703-3c78-40eb-9a51-55681001ba22",
   "metadata": {
    "tags": []
   },
   "outputs": [],
   "source": [
    "# # CALCUL C4 ---------- <PDF> -> C4\n",
    "\n",
    "C4_x = []\n",
    "for i in tqdm(files):\n",
    "    datas = pd.read_parquet(i)\n",
    "    dx = np.array(datas.columns).astype(float)\n",
    "    \n",
    "    #Moyenne des PDFs\n",
    "    datas = datas.to_numpy()\n",
    "    datas = np.sum(datas, axis=0)\n",
    "    datas = datas / np.trapz(datas, dx)\n",
    "    \n",
    "    #Calcul du C4_x\n",
    "    C4_x.append(np.trapz(dx**4 *datas, dx) - 3* (np.trapz(dx**2 * datas, dx))**2)\n",
    "\n"
   ]
  },
  {
   "cell_type": "markdown",
   "id": "e5c7bf26-2bf7-4348-8bd1-e2bd9eb3678a",
   "metadata": {},
   "source": [
    "# CALCUL C4_z"
   ]
  },
  {
   "cell_type": "code",
   "execution_count": null,
   "id": "5f94f9b4-8a04-4a06-9dd8-db58d59bc718",
   "metadata": {
    "tags": []
   },
   "outputs": [],
   "source": [
    "# CALCUL C4_Z ----------- <PDF> -> C4\n",
    "\n",
    "C4_z = []\n",
    "for i in tqdm(files_z):\n",
    "    datas_z = pd.read_parquet(i)\n",
    "    dz = np.array(datas_z.columns).astype(float)\n",
    "    \n",
    "    #Moyenne des PDFs\n",
    "    datas_z = datas_z.to_numpy()\n",
    "    datas_z = np.sum(datas_z, axis=0)\n",
    "    datas_z = datas_z / np.trapz(datas_z, dz)\n",
    "    \n",
    "    #Calcul du C4_x\n",
    "    C4_z.append(np.trapz(dz**4 *datas_z, dz) - 3* (np.trapz(dz**2 * datas_z, dz))**2)\n",
    "\n"
   ]
  },
  {
   "cell_type": "code",
   "execution_count": null,
   "id": "fdbe8140-5788-4c58-9a37-c04f6404b6aa",
   "metadata": {
    "tags": []
   },
   "outputs": [],
   "source": [
    "# from scipy.io import savemat\n",
    "# C4s = {}\n",
    "# C4s['PARAMETRES:_a_eta_H_lD_lB_B_Ntsub'] = np.array([a, eta, H, lD, lB, B, Nt_sub])\n",
    "# C4s[\"tau_x, C4_x\"] =tau_x, C4_x\n",
    "# C4s[\"tau_z, C4_z\"] =tau_z, C4_z\n",
    "# savemat(\"SIMU-C4s_Nt_1e6_dt_1e-2.mat\", C4s)"
   ]
  },
  {
   "cell_type": "code",
   "execution_count": null,
   "id": "030f564c-b66e-4a4c-a59a-8f82fa3fe599",
   "metadata": {
    "tags": []
   },
   "outputs": [],
   "source": [
    "C4s =  loadmat(\"SIMU-C4s_Nt_1e6_dt_1e-2.mat\", squeeze_me=True)\n",
    "\n",
    "tau_x, C4_x = C4s[\"tau_x, C4_x\"] \n",
    "tau_z, C4_z = C4s[\"tau_z, C4_z\"] \n"
   ]
  },
  {
   "cell_type": "markdown",
   "id": "b2ffc41c-d979-402c-9e72-01650a1e82f8",
   "metadata": {},
   "source": [
    "### - CALCUL C4_x méthode 2"
   ]
  },
  {
   "cell_type": "code",
   "execution_count": null,
   "id": "26619970-03e3-416a-a521-ed8384f846f5",
   "metadata": {
    "tags": []
   },
   "outputs": [],
   "source": [
    "# Calcul C4 avec MÉTHODE_2 PDF -> C4 -> <C4>\n",
    "\n",
    "# C4_xM2 = []\n",
    "\n",
    "# for i in tqdm(files):\n",
    "#     datas = pd.read_parquet(i)\n",
    "#     dx = np.array(datas.columns).astype(float)\n",
    "#     tampon = []\n",
    "#     #PDFs\n",
    "#     datas = datas.to_numpy()\n",
    "#     for j in (range(len(datas[:,0]))):\n",
    "#         if sum(datas[j, :]) != 0:\n",
    "#             #Calcul des C4_x\n",
    "#             PDF = datas[j,:] / np.trapz(datas[j,:], dx)\n",
    "#             tampon.append( np.trapz(dx**4 *PDF, dx) - 3* (np.trapz(dx**2 * PDF, dx))**2 )\n",
    "    \n",
    "#     # Moyenne des C4s\n",
    "#     C4_xM2.append(np.mean(tampon))\n",
    "\n",
    "# del tampon\n",
    "# del PDF\n",
    "\n",
    "\n",
    "# from scipy.io import savemat\n",
    "\n",
    "# C4_from_methode2 = {}\n",
    "# C4_from_methode2[\"time (s)\"] = tau_x\n",
    "# C4_from_methode2[\"C4 (m^4)\"] = C4_xM2\n",
    "\n",
    "# savemat(\"C4_Datas/C4_ComputeWithMethode2_MeanOfC4.mat\", C4_from_methode2)\n",
    "\n",
    "M2_c4 = loadmat(\"../C4_Datas/C4_ComputeWithMethode2_MeanOfC4.mat\", squeeze_me=True)\n",
    "# np.shape(M2_c4[\"C4 (m^4)\"])"
   ]
  },
  {
   "cell_type": "code",
   "execution_count": null,
   "id": "91a90f95-0447-4f78-ab8f-7b79572c1f32",
   "metadata": {
    "tags": []
   },
   "outputs": [],
   "source": [
    "## COMPAISON DES DEUX MÉTHODES DE CALCUL DE C4\n",
    "\n",
    "fig = plt.figure(figsize = (4, 4/1.68),  tight_layout=True)\n",
    "\n",
    "ax1 = plt.subplot(111)\n",
    "\n",
    "ax1.loglog(tau_x, C4_x, \"o\", color=\"tab:blue\", label=r\"$\\int \\Delta X^4 P(\\Delta X) \\mathrm{d}\\Delta X - 3 \\left( \\int \\Delta X^2 P(\\Delta X) \\mathrm{d}\\Delta X \\right)^2 $\")\n",
    "# ax1.loglog(M2_c4[\"time (s)\"], M2_c4[\"C4 (m^4)\"], \"o\", color=\"tab:pink\", label=r\"$\\langle \\Delta X^4 \\rangle - 3 \\langle \\Delta X^2 \\rangle^2$\")\n",
    "ax1.plot(tau_x[n_court], C4_x[n_court], \"k*\")\n",
    "ax1.plot(tau_x[n_mid], C4_x[n_mid], \"k*\")\n",
    "ax1.plot(tau_x[n_long], C4_x[n_long], \"k*\")\n",
    "ax1.plot(t_short, A4_theo_x*t_short**2, \"k-\" )\n",
    "ax1.plot(t_long, 24*D4_long_theo*t_long-24*C4_long_theo, \"k--\" )\n",
    "\n",
    "\n",
    "plt.legend()"
   ]
  },
  {
   "cell_type": "code",
   "execution_count": null,
   "id": "19b3bd1b-7278-4f81-8699-31ad8a18beca",
   "metadata": {
    "tags": []
   },
   "outputs": [],
   "source": [
    "# # CALCUL KURTOSIS Z\n",
    "\n",
    "# Kurtosis_z = []\n",
    "# for i in tqdm(files_z):\n",
    "#     datas_z = pd.read_parquet(i)\n",
    "#     dz = np.array(datas_z.columns).astype(float)\n",
    "    \n",
    "#     #Moyenne des PDFs\n",
    "#     datas_z = datas_z.to_numpy()\n",
    "#     datas_z = np.sum(datas_z, axis=0)\n",
    "#     datas_z = datas_z / np.trapz(datas_z, dz)\n",
    "    \n",
    "#     #Calcul du C4_x_\n",
    "#     Kurtosis_z.append(np.trapz(dz**4 *datas_z, dz)/(np.trapz(dz**2 * datas_z, dz)**2) - 3)\n",
    "\n"
   ]
  },
  {
   "cell_type": "code",
   "execution_count": null,
   "id": "d124dcb6-4218-4f11-940c-527aa9f10fa2",
   "metadata": {
    "tags": []
   },
   "outputs": [],
   "source": [
    "# from scipy.io import savemat\n",
    "# KURTOSIS = {}\n",
    "# KURTOSIS['PARAMETRES:_a_eta_H_lD_lB_B_Ntsub'] = np.array([a, eta, H, lD, lB, B, Nt_sub])\n",
    "# KURTOSIS[\"tau_x, Kurtosis_x\"] =tau_x, Kurtosis_x\n",
    "# KURTOSIS[\"tau_z, Kurtosis_z\"] =tau_z, Kurtosis_z\n",
    "# savemat(\"SIMU-KURTOSIS_Nt_1e6_dt_1e-2.mat\", KURTOSIS)"
   ]
  },
  {
   "cell_type": "code",
   "execution_count": null,
   "id": "c54e4ce4-d90b-470c-8691-8a3c5aa9edd1",
   "metadata": {
    "tags": []
   },
   "outputs": [],
   "source": [
    "KURTOSIS =  loadmat(\"SIMU-KURTOSIS_Nt_1e6_dt_1e-2.mat\", squeeze_me=True)\n",
    "\n",
    "tau_x, Kurtosis_x = KURTOSIS[\"tau_x, Kurtosis_x\"] \n",
    "tau_z, Kurtosis_z = KURTOSIS[\"tau_z, Kurtosis_z\"] \n"
   ]
  },
  {
   "cell_type": "markdown",
   "id": "f42bbd28-4fe1-4249-8371-e94d9d09c000",
   "metadata": {},
   "source": [
    "# DATA PDFs $\\tau_1$,  $\\tau_2$,  $\\tau_3$, "
   ]
  },
  {
   "cell_type": "code",
   "execution_count": null,
   "id": "b6cb82e1-f9a3-4d86-b8cc-3c1d75542700",
   "metadata": {},
   "outputs": [],
   "source": [
    "filess = [files[n_court], files[n_mid], files[n_long], files[n_inf]]\n",
    "filess_z = [files_z[n_court], files_z[n_mid], files_z[n_long]]"
   ]
  },
  {
   "cell_type": "code",
   "execution_count": null,
   "id": "ae47a006-36b7-49f0-9420-8c43e0fc3832",
   "metadata": {},
   "outputs": [],
   "source": [
    "tau_x[n_court], tau_x[n_mid], tau_x[n_long], tau_x[n_inf]"
   ]
  },
  {
   "cell_type": "code",
   "execution_count": null,
   "id": "ae9aafb8-8800-4049-9bde-29a847311f17",
   "metadata": {},
   "outputs": [],
   "source": [
    "datas = {}\n",
    "for i in filess:\n",
    "    name = i.split(\"/\")[-1]\n",
    "    datas[name] = pd.read_parquet(i)\n",
    "\n",
    "\n",
    "    \n",
    "datas_z = {}\n",
    "for i in filess_z:\n",
    "    name = i.split(\"/\")[-1]\n",
    "    datas_z[name] = pd.read_parquet(i)"
   ]
  },
  {
   "cell_type": "code",
   "execution_count": null,
   "id": "f2f95f8c-056e-45d9-93c3-51a959e78033",
   "metadata": {},
   "outputs": [],
   "source": [
    "len(datas)"
   ]
  },
  {
   "cell_type": "code",
   "execution_count": null,
   "id": "e44674ff-445d-47f0-b0be-9fde32d76837",
   "metadata": {},
   "outputs": [],
   "source": [
    "times = list(datas.keys())\n",
    "\n",
    "times_z = list(datas_z.keys())\n",
    "times, times_z"
   ]
  },
  {
   "cell_type": "code",
   "execution_count": null,
   "id": "2c03424b-8ee0-4ef5-b4c6-ba6a39af7b07",
   "metadata": {},
   "outputs": [],
   "source": [
    "# removings 0 lines\n",
    "\n",
    "for i in times_z:\n",
    "    datas[i] = datas[i].loc[datas[i].sum(axis = 1) != 0]\n",
    "    datas_z[i] = datas_z[i].loc[datas_z[i].sum(axis = 1) != 0]"
   ]
  },
  {
   "cell_type": "code",
   "execution_count": null,
   "id": "8bbabbb4-8776-4337-8a4f-1891233b277b",
   "metadata": {},
   "outputs": [],
   "source": [
    "datas['19306'] = datas['19306'].loc[datas['19306'].sum(axis = 1) != 0]"
   ]
  },
  {
   "cell_type": "code",
   "execution_count": null,
   "id": "86c0bbd3-d67b-4a31-8230-abd9a2c8e744",
   "metadata": {},
   "outputs": [],
   "source": [
    "PDFs = {}\n",
    "PDFs['PARAMETRES:_a_eta_H_lD_lB_B_Ntsub'] = np.array([a, eta, H, lD, lB, B, Nt_sub])\n",
    "PDFs[\"dts\"] = np.array(list(map(float, times)) ) * dt\n",
    "PDFs[\"Readme\"] = [\"Only along x for last dts[3]\"]\n",
    "PDFs[\"Datas_origines [x,z]\"] = [files[0].split(\"/\")[-2], files_z[0].split(\"/\")[-2]]\n",
    "\n",
    "for n,i in enumerate(times):\n",
    "    key = \"dx_\"+str(n)+ \", PDF_x\"+str(n) \n",
    "    PDFs[key] = [np.array(datas[i].columns).astype(float), datas[i].to_numpy()]\n",
    "    \n",
    "    if i != '19306':\n",
    "        key_z = \"dz_\"+str(n)+ \", PDF_z\"+str(n) \n",
    "        PDFs[key_z] = [np.array(datas_z[i].columns).astype(float), datas_z[i].to_numpy()]\n"
   ]
  },
  {
   "cell_type": "code",
   "execution_count": null,
   "id": "d9953de8-4c57-4e18-8874-68240758ddf6",
   "metadata": {},
   "outputs": [],
   "source": [
    "PDFs[ \"dts\"]"
   ]
  },
  {
   "cell_type": "code",
   "execution_count": null,
   "id": "0503bad7-30c6-40b1-a8c2-260ac3aeb422",
   "metadata": {},
   "outputs": [],
   "source": [
    "from scipy.io import savemat    \n",
    "savemat(\"../C4_Datas/PLOT_PapierSimuC4/SIMU-PDFs_Nt_1e6_dt_1e-2_Version2_0p01-23p29-95p4-193p06.mat\", PDFs)"
   ]
  },
  {
   "cell_type": "code",
   "execution_count": null,
   "id": "e21e3528-5701-49e2-b6f5-5a31d679804c",
   "metadata": {},
   "outputs": [],
   "source": [
    "dxLONG = np.linspace(-60e-6, 60e-6, 1000)\n",
    "dxMID = np.linspace(-15e-6, 15e-6, 1000)\n",
    "dxCOURT = np.linspace(-0.4e-6, 0.4e-6, 1000)\n",
    "\n",
    "dzCOURT = np.linspace(-0.4e-6, 0.4e-6, 1000)\n",
    "dzLONG = np.linspace(-2*H, 2*H, 1000)\n",
    "\n",
    "t_short = np.linspace(1e-4, 50, 1000)\n",
    "t_long = np.linspace(20, 1e5, 1000)"
   ]
  },
  {
   "cell_type": "code",
   "execution_count": null,
   "id": "2624ae28-7edd-4abb-a9c6-9d60c669cf58",
   "metadata": {},
   "outputs": [],
   "source": [
    "dx_0, data_0 = PDFs['dx_0, PDF_x0']\n",
    "dx_1, data_1 = PDFs['dx_1, PDF_x1']\n",
    "dx_2, data_2 = PDFs['dx_2, PDF_x2']\n",
    "\n",
    "dz_0, data_z0 = PDFs['dz_0, PDF_z0']\n",
    "dz_1, data_z1 = PDFs['dz_1, PDF_z1']\n",
    "dz_2, data_z2 = PDFs['dz_2, PDF_z2']\n",
    "\n",
    "dts = PDFs[\"dts\"]"
   ]
  },
  {
   "cell_type": "code",
   "execution_count": null,
   "id": "9e0da5f3-b81d-471a-b4c3-f4e29d1a3e0a",
   "metadata": {},
   "outputs": [],
   "source": [
    "dts"
   ]
  },
  {
   "cell_type": "code",
   "execution_count": null,
   "id": "53fa7d3c-ffd3-44c2-bba6-411ebba78e66",
   "metadata": {},
   "outputs": [],
   "source": [
    "## Temps court dt1\n",
    "PDF_x0 = np.mean(data_0, axis=0)\n",
    "Gauss_x0 = gauss(dxCOURT, 0, np.sqrt(2*mean_Dx*dts[0])) \n",
    "\n",
    "PDF_z0 = np.mean(data_z0, axis=0)\n",
    "Gauss_z0 = gauss(dzCOURT, 0, np.sqrt(2*mean_Dz*dts[0])) \n",
    "\n",
    "\n",
    "## Temps long dt3\n",
    "PDF_x2 = np.mean(data_2, axis=0)\n",
    "Gauss_x2 = gauss(dxLONG, 0, np.sqrt(2*mean_Dx*dts[2]))\n",
    "\n",
    "PDF_z2 = np.mean(data_z2, axis=0)\n",
    "Gauss_z2 = gauss(dzLONG, 0, np.sqrt(2*mean_Dz*dts[2]))"
   ]
  },
  {
   "cell_type": "code",
   "execution_count": null,
   "id": "69fe4c6c-9bc8-40b9-8ca8-6abb0372098a",
   "metadata": {},
   "outputs": [],
   "source": []
  },
  {
   "cell_type": "code",
   "execution_count": null,
   "id": "91e2295d-f2ba-408a-ba5f-0a888e090e94",
   "metadata": {},
   "outputs": [],
   "source": [
    "## Pour des temps de 0.01, 1.09 et 95.4 secondes\n",
    "\n",
    "# PDFs =  loadmat(\"SIMU-PDFs123.mat\", squeeze_me=True)\n",
    "\n",
    "# indice_tau = PDFs[\"indice des \\tau_1_2_3\"]\n",
    "# dx_1, data_1 = PDFs[\"x, PDF1\"]\n",
    "# dx_0, data_0 = PDFs[\"x, PDF2\"]\n",
    "# dx_2, data_2 = PDFs[\"x, PDF3\"]\n",
    "\n",
    "# Dxx = PDFs[\"Dpara_mean\"]\n",
    "\n",
    "# A4, D4, C4 = PDFs[\"coef:A4,D4,C4\"]"
   ]
  },
  {
   "cell_type": "code",
   "execution_count": null,
   "id": "f7f19e49-b011-4038-b0fc-0208b65f4901",
   "metadata": {},
   "outputs": [],
   "source": []
  },
  {
   "cell_type": "code",
   "execution_count": null,
   "id": "63ebaf1d-7712-41e3-96f0-f422337bc884",
   "metadata": {},
   "outputs": [],
   "source": [
    "times = np.linspace(dt,Nt*dt, Nt)\n",
    "\n",
    "dts = times[indice_tau]\n",
    "dts"
   ]
  },
  {
   "cell_type": "code",
   "execution_count": null,
   "id": "a47d90cf-4831-4386-ae30-d13bdf13773c",
   "metadata": {},
   "outputs": [],
   "source": [
    "Convergence_court = A4*tau_x[n_court]**2\n",
    "Convergence_mid = 24*D4*tau_x[n_mid]-24*C4 #C4_x[n_mid]\n",
    "Convergence_long = 24*D4*tau_x[n_long]-24*C4"
   ]
  },
  {
   "cell_type": "code",
   "execution_count": null,
   "id": "7316f42f-b598-4116-a31a-b93ffe4fef83",
   "metadata": {},
   "outputs": [],
   "source": [
    "dXXlong =  np.linspace(-60, +60, 1000)\n",
    "PDF_theory_x_long = P_Di_short_time(dXXlong*1e-6, dts[2], D_para, a, eta, B, lD, lB, H)"
   ]
  },
  {
   "cell_type": "code",
   "execution_count": null,
   "id": "fa0d7e59-7192-4eb7-a09b-b2c631d655d5",
   "metadata": {},
   "outputs": [],
   "source": [
    "# PDF_theory_x_long\n",
    "dts[2]"
   ]
  },
  {
   "cell_type": "code",
   "execution_count": null,
   "id": "af496cbf-f05f-4056-b6c5-d1831daa35b6",
   "metadata": {},
   "outputs": [],
   "source": [
    "Gauss_x2 = gauss(dXXlong*1e-6, 0, np.sqrt(2*mean_Dx*dts[2]))"
   ]
  },
  {
   "cell_type": "code",
   "execution_count": null,
   "id": "4a869850-e9e2-4fca-a18e-cf13e7ee15e4",
   "metadata": {},
   "outputs": [],
   "source": [
    "fig = plt.figure(figsize = (3.3, 5/1.68),  tight_layout=True)\n",
    "taille_marque = 3\n",
    "\n",
    "## PDF1\n",
    "ax2 = plt.subplot(2,2,1)\n",
    "ax2.semilogy(dx_0*1e6, PDF_x0/np.trapz(PDF_x0, dx_0*1e6), \"o\", color=\"tab:blue\", label=r\"$X_t$\", markersize=taille_marque)\n",
    "ax2.semilogy(dXX, PDF_theory_x / np.trapz(PDF_theory_x, dXX), \"k-\", linewidth=1.5)\n",
    "ax2.semilogy(dxCOURT*1e6, Gauss_x0/np.trapz(Gauss_x0, dxCOURT*1e6), \"--\", color=\"tab:cyan\", linewidth=1.2)\n",
    "ax2.set_xlim(-0.35, 0.35)\n",
    "ax2.set_ylim(1e-10, 40)\n",
    "ax2.set(\n",
    "    # xlabel = r\"$\\Delta X_n$ ($\\mu$m)\",\n",
    "    ylabel = r\"$P(\\Delta r_{i,n}, \\tau_0)$  ($\\mu$m$^{-1}$)\",\n",
    ")\n",
    "ax2.text(0.08, 0.85, r\"(a)\", transform=ax2.transAxes)\n",
    "locmaj = mpl.ticker.LogLocator(base=10.0, subs=(1.0, ), numticks=100)\n",
    "locmin = mpl.ticker.LogLocator(base=10.0, subs=np.arange(2, 10) * .1, numticks=100)\n",
    "ax2.yaxis.set_major_locator(locmaj)\n",
    "ax2.yaxis.set_minor_locator(locmin)\n",
    "ax2.yaxis.set_minor_formatter(mpl.ticker.NullFormatter())\n",
    "ax2_ticks = ax2.get_yticklabels()\n",
    "for i in ax2_ticks:\n",
    "    i.set_visible(False)\n",
    "for n, i in enumerate(ax2_ticks):\n",
    "    if n%2==0:i.set_visible(True)"
   ]
  },
  {
   "cell_type": "markdown",
   "id": "4f571a1b-f18d-4ed1-beb0-314b43b7143d",
   "metadata": {},
   "source": [
    "# Convergence "
   ]
  },
  {
   "cell_type": "code",
   "execution_count": 1,
   "id": "ec96e750-1403-4e6b-b29c-884f4eef8bb0",
   "metadata": {},
   "outputs": [
    {
     "ename": "NameError",
     "evalue": "name 'np' is not defined",
     "output_type": "error",
     "traceback": [
      "\u001b[0;31m---------------------------------------------------------------------------\u001b[0m",
      "\u001b[0;31mNameError\u001b[0m                                 Traceback (most recent call last)",
      "Input \u001b[0;32mIn [1]\u001b[0m, in \u001b[0;36m<cell line: 1>\u001b[0;34m()\u001b[0m\n\u001b[0;32m----> 1\u001b[0m dxLONG \u001b[38;5;241m=\u001b[39m \u001b[43mnp\u001b[49m\u001b[38;5;241m.\u001b[39mlinspace(\u001b[38;5;241m-\u001b[39m\u001b[38;5;241m60e-6\u001b[39m, \u001b[38;5;241m60e-6\u001b[39m, \u001b[38;5;241m100\u001b[39m)\n\u001b[1;32m      2\u001b[0m dxMID \u001b[38;5;241m=\u001b[39m np\u001b[38;5;241m.\u001b[39mlinspace(\u001b[38;5;241m-\u001b[39m\u001b[38;5;241m15e-6\u001b[39m, \u001b[38;5;241m15e-6\u001b[39m, \u001b[38;5;241m100\u001b[39m)\n\u001b[1;32m      3\u001b[0m dxCOURT \u001b[38;5;241m=\u001b[39m np\u001b[38;5;241m.\u001b[39mlinspace(\u001b[38;5;241m-\u001b[39m\u001b[38;5;241m0.4e-6\u001b[39m, \u001b[38;5;241m0.4e-6\u001b[39m, \u001b[38;5;241m1000\u001b[39m)\n",
      "\u001b[0;31mNameError\u001b[0m: name 'np' is not defined"
     ]
    }
   ],
   "source": [
    "dxLONG = np.linspace(-60e-6, 60e-6, 100)\n",
    "dxMID = np.linspace(-15e-6, 15e-6, 100)\n",
    "dxCOURT = np.linspace(-0.4e-6, 0.4e-6, 1000)"
   ]
  },
  {
   "cell_type": "code",
   "execution_count": null,
   "id": "a67f955f-8d80-42ca-b394-e48672750e94",
   "metadata": {},
   "outputs": [],
   "source": [
    "Calcul du C4 en fonction de Ns\n",
    "\n",
    "# Méthode <PDF> => C4\n",
    "Nss= np.unique(np.logspace(0, 6, num = 40, base = 10, dtype=int))\n",
    "C4_x_Ns_1 = np.zeros(len(Nss))\n",
    "C4_x_Ns_0 = np.zeros(len(Nss))\n",
    "C4_x_Ns_2 = np.zeros(len(Nss))\n",
    "\n",
    "for n, i in enumerate(Nss):\n",
    "        PDF = np.sum(data_1[:i, :], axis=0)\n",
    "        PDF = PDF / np.trapz(PDF, dx_1)\n",
    "        C4_x_Ns_1[n] = np.trapz(dx_1**4 *PDF, dx_1) - 3* (np.trapz(dx_1**2 * PDF, dx_1))**2\n",
    "        \n",
    "        PDF = np.sum(data_0[:i, :], axis=0)\n",
    "        PDF = PDF / np.trapz(PDF, dx_0)\n",
    "        C4_x_Ns_0[n] = np.trapz(dx_0**4 *PDF, dx_0) - 3* (np.trapz(dx_0**2 * PDF, dx_0))**2\n",
    "        \n",
    "        PDF = np.sum(data_2[:i, :], axis=0)\n",
    "        PDF = PDF / np.trapz(PDF, dx_2)\n",
    "        C4_x_Ns_2[n] = np.trapz(dx_2**4 *PDF, dx_2) - 3* (np.trapz(dx_2**2 * PDF, dx_2))**2\n",
    "        \n",
    "        \n"
   ]
  },
  {
   "cell_type": "code",
   "execution_count": null,
   "id": "951c49a7-69df-4d62-ba3b-ed4892cfbecb",
   "metadata": {},
   "outputs": [],
   "source": [
    "# # MÉTHODE 2 : PDFs => C4s => <C4>\n",
    "# C4_x_Ns_11 = np.zeros(len(Nss))\n",
    "# C4_x_Ns_00 = np.zeros(len(Nss))\n",
    "# C4_x_Ns_22 = np.zeros(len(Nss))\n",
    "\n",
    "# import warnings\n",
    "# warnings.filterwarnings(\"error\")\n",
    "\n",
    "# C4_1 = []\n",
    "# C4_0 = []\n",
    "# C4_2 = []\n",
    "# for j in tqdm(range(len(data_1[:, 0]))):\n",
    "#     if (sum(data_1[j, :]) != 0 and sum(data_0[j, :])!=0 and sum(data_2[j, :])!=0):\n",
    "#         PDF = data_1[j, :] / np.trapz(data_1[j, :], dx_1)\n",
    "#         C4_1.append(np.trapz(dx_1**4 *PDF, dx_1) - 3* (np.trapz(dx_1**2 * PDF, dx_1))**2)\n",
    "        \n",
    "#         PDF = data_0[j, :] / np.trapz(data_0[j, :], dx_0)\n",
    "#         C4_0.append(np.trapz(dx_0**4 *PDF, dx_0) - 3* (np.trapz(dx_0**2 * PDF, dx_0))**2)\n",
    "        \n",
    "        \n",
    "#         PDF = data_2[j, :] / np.trapz(data_2[j, :], dx_2)\n",
    "#         C4_2.append(np.trapz(dx_2**4 *PDF, dx_2) - 3* (np.trapz(dx_2**2 * PDF, dx_2))**2)\n",
    "        \n",
    "# for n, i in enumerate(Nss):\n",
    "#     C4_x_Ns_11[n] = np.mean(C4_1[:i])\n",
    "#     C4_x_Ns_00[n] = np.mean(C4_0[:i])\n",
    "#     C4_x_Ns_22[n] = np.mean(C4_2[:i])\n",
    "\n",
    "# from scipy.io import savemat\n",
    "\n",
    "\n",
    "    "
   ]
  },
  {
   "cell_type": "code",
   "execution_count": null,
   "id": "634861e8-4426-4d82-a70c-d0404f824b57",
   "metadata": {},
   "outputs": [],
   "source": [
    "# Convergence_c4_3temps_M2 = {}\n",
    "# Convergence_c4_3temps_M2[\"3 temps (s)\"] = [Ntime[n_court]*dt, Ntime[n_mid]*dt, Ntime[n_long]*dt,]\n",
    "# Convergence_c4_3temps_M2[\"C4_1\"] = C4_x_Ns_00\n",
    "# Convergence_c4_3temps_M2[\"C4_2\"] = C4_x_Ns_11\n",
    "# Convergence_c4_3temps_M2[\"C4_3\"] = C4_x_Ns_22\n",
    "# Convergence_c4_3temps_M2[\"Ns\"] = Nss\n",
    "\n",
    "# # savemat(\"Convergence_C4_methode2.mat\", Convergence_c4_3temps_M2)"
   ]
  },
  {
   "cell_type": "code",
   "execution_count": null,
   "id": "23006b5d-cf8a-4b46-bcb5-bb827ad80fd8",
   "metadata": {},
   "outputs": [],
   "source": [
    "Convergence_M2 = loadmat(\"Convergence_C4_methode2.mat\", squeeze_me=True)\n",
    "C4_x_Ns_11 = Convergence_M2['C4_2']\n",
    "C4_x_Ns_00 = Convergence_M2['C4_1']\n",
    "C4_x_Ns_22 = Convergence_M2['C4_3']\n",
    "Nss = Convergence_M2['Ns']"
   ]
  },
  {
   "cell_type": "markdown",
   "id": "6ebe858c-f634-4553-83a1-67523e6ae860",
   "metadata": {},
   "source": [
    "# REPONSE REFERY PAPIER ALEXANDRE 2023"
   ]
  },
  {
   "cell_type": "code",
   "execution_count": null,
   "id": "a98c1c7e-c525-42a9-8ff6-6f6271aea2b5",
   "metadata": {},
   "outputs": [],
   "source": [
    "Convergence_court,Convergence_mid,Convergence_long"
   ]
  },
  {
   "cell_type": "code",
   "execution_count": null,
   "id": "e4ecac32-02aa-4120-8d0e-6fe0e37da98b",
   "metadata": {},
   "outputs": [],
   "source": [
    "err_court1 = np.abs(Convergence_court-C4_x_Ns_1[-1])/Convergence_court * 100\n",
    "err_court2 =  np.abs(Convergence_court-C4_x_Ns_11[-1])/Convergence_court * 100\n",
    "\n",
    "err_mid1 = np.abs(Convergence_mid-C4_x_Ns_0[-1])/Convergence_mid * 100\n",
    "err_mid2 = np.abs(Convergence_mid-C4_x_Ns_00[-1])/Convergence_mid * 100\n",
    "\n",
    "err_long1 = np.abs(Convergence_long-C4_x_Ns_2[-1])/Convergence_long * 100\n",
    "err_long2 = np.abs(Convergence_long-C4_x_Ns_22[-1])/Convergence_long * 100\n"
   ]
  },
  {
   "cell_type": "code",
   "execution_count": null,
   "id": "7b68a31f-9efd-44fb-9ca3-160e5010c8ce",
   "metadata": {},
   "outputs": [],
   "source": [
    "(err_court1, err_court2), (err_mid1, err_mid2), (err_long1, err_long2) "
   ]
  },
  {
   "cell_type": "code",
   "execution_count": null,
   "id": "8e8191ad-943f-4cbe-a2a1-6840ed0d8e10",
   "metadata": {},
   "outputs": [],
   "source": [
    "analytic = np.loadtxt('../C4_Datas/THEORY_EIGENVALUES_FOR_C4.txt',dtype=\"float\" )\n",
    "\n",
    "analytic_time = analytic[:,0]\n",
    "analytic_C4 = analytic[:,1]\n",
    "analytic_kurtosis = ((analytic_C4 + 3*(2*mean_Dx*analytic_time)**2) / (2*mean_Dx*analytic_time)**2) - 3"
   ]
  },
  {
   "cell_type": "code",
   "execution_count": null,
   "id": "dad7518a-ea4a-4264-8293-225c6bd32266",
   "metadata": {},
   "outputs": [],
   "source": [
    "theoriePDF0p01 = loadmat(\"../C4_Datas/PDF_ForExpsParam_and_t=0p01_zMax=4_Nmesh=400.mat\")\n",
    "\n",
    "theo_PDF_1 = theoriePDF0p01[\"P\"]\n",
    "theo_dx_1 = theoriePDF0p01[\"x\"]"
   ]
  },
  {
   "cell_type": "code",
   "execution_count": null,
   "id": "cf229c2b-1b0b-425c-8124-c628483ee70c",
   "metadata": {},
   "outputs": [],
   "source": [
    "theoriePDF1p09 = loadmat(\"../C4_Datas/PDF_ForExpsParam_and_t=1p09_zMax=4_Nmesh=400.mat\")\n",
    "\n",
    "theo_PDF_0 = theoriePDF1p09[\"P\"]\n",
    "theo_dx_0 = theoriePDF1p09[\"x\"]"
   ]
  },
  {
   "cell_type": "code",
   "execution_count": null,
   "id": "fa7e5227-3ed1-4a73-a6a6-78cf624cb94a",
   "metadata": {},
   "outputs": [],
   "source": [
    "theoriePDF95p4 = loadmat(\"../C4_Datas/PDF_ForExpsParam_and_t=95p4_zMax=8_Nmesh=400.mat\")\n",
    "\n",
    "theo_PDF_2 = theoriePDF95p4[\"P\"]\n",
    "theo_dx_2 = theoriePDF95p4[\"x\"]"
   ]
  },
  {
   "cell_type": "code",
   "execution_count": null,
   "id": "8448bc9c-a19b-4c25-be7b-9bb4ff149e48",
   "metadata": {},
   "outputs": [],
   "source": [
    "## SEMI-EXPERIENCE NICO LE CHAUVAIN\n",
    "\n",
    "experience = loadmat(\"../C4_Datas/C4_kurtosis_semi_experimental_exp_20211019_from_20221003.mat\")\n",
    "\n",
    "experience_C4 = experience[\"C4\"][0]\n",
    "experience_errC4 = experience[\"err_C4\"][0]\n",
    "experience_Kurtosis = experience[\"kurtosis\"][0]\n",
    "experience_errKurtosis = experience[\"err_kurtosis\"][0]\n",
    "experience_time = experience[\"time\"][0]\n",
    "\n",
    "\n",
    "experience_dX_0p01 = experience[\"pdf_0\"][\"bins_center\"][0][0][0]\n",
    "experience_PDF_0p01 = experience[\"pdf_0\"][\"pdf\"][0][0][0]\n",
    "experience_PDFstd_0p01 = experience[\"pdf_0\"][\"pdf_err\"][0][0][0]\n",
    "\n",
    "experience_dX_1 = experience[\"pdf_2\"][\"bins_center\"][0][0][0]\n",
    "experience_PDF_1 = experience[\"pdf_2\"][\"pdf\"][0][0][0]\n",
    "experience_PDFstd_1 = experience[\"pdf_2\"][\"pdf_err\"][0][0][0]\n",
    "# experience\n"
   ]
  },
  {
   "cell_type": "code",
   "execution_count": null,
   "id": "1b3994c6-0d85-49c9-9c52-5fe99320136c",
   "metadata": {},
   "outputs": [],
   "source": [
    "import matplotlib as mpl\n",
    "from matplotlib.ticker import FormatStrFormatter"
   ]
  },
  {
   "cell_type": "code",
   "execution_count": null,
   "id": "fc11c30a-9ca4-426b-992d-a8f2e667e561",
   "metadata": {},
   "outputs": [],
   "source": [
    "# data_plot = {}\n",
    "# data_plot[\"LagTime_simu_x\"] = tau_x\n",
    "# data_plot[\"C4_simu_x\"] = C4_x\n",
    "# data_plot[\"Kurtosis_simu_x\"] = Kurtosis_x\n",
    "\n",
    "# data_plot[\"LagTime_simu_z\"] = tau_z\n",
    "# data_plot[\"C4_simu_z\"] = C4_z\n",
    "# data_plot[\"Kurtosis_simu_z\"] = Kurtosis_z\n",
    "\n",
    "# data_plot[\"indice des \\tau_1_2_3\"] = np.array([n_court, n_mid, n_long])\n",
    "# data_plot[\"COEF_C4_x : A4,D4,C4\"] = np.array([A4_theo_x, D4_long_theo, C4_long_theo])\n",
    "# data_plot[\"COEF_C4_z : A4\"] = np.array([A4_theo_z])\n",
    "# data_plot[\"PARAMETRES:_a_eta_H_lD_lB_B_Ntsub\"] = np.array([a, eta, H, lD, lB, B, Nt_sub]) \n",
    "\n",
    "# from scipy.io import savemat\n",
    "# savemat(\"SIMU-C4-Kurtosis-x,z_Nt_1e6_dt_1e-2.mat\", data_plot)\n",
    " "
   ]
  },
  {
   "cell_type": "code",
   "execution_count": null,
   "id": "93554906-63df-406b-911a-f4d310a2352e",
   "metadata": {},
   "outputs": [],
   "source": [
    "fig = plt.figure(figsize = (2*3.375,10),  tight_layout=True)\n",
    "gs = mpl.gridspec.GridSpec(6,6)\n",
    "# C4\n",
    "axC4 = plt.subplot(gs[0, :])\n",
    "\n",
    "axC4.plot(np.linspace(5e-3, 100, 1000), A4_theo_x*np.linspace(5e-3, 100, 1000)**2, \"-\", color=\"peru\", linewidth=1.5 )\n",
    "axC4.plot(np.linspace(30, 3000, 1000), (24*D4_long_theo*np.linspace(30, 3000, 1000)-24*C4_long_theo), \"--\", color=\"peru\", linewidth=1.5)\n",
    "axC4.loglog(analytic_time[:-25], analytic_C4[:-25], \"k-\", linewidth=1.5)\n",
    "axC4.loglog(tau_x[:-5], C4_x[:-5], \".\", color=\"tab:blue\", markersize=8)\n",
    "axC4.errorbar(experience_time[:-3], experience_C4[:-3], yerr=experience_errC4[:-3], fmt='*', linestyle=\"\",color=\"tab:green\", markersize=8)\n",
    "\n",
    "axC4.annotate(r\"$\\tau _1$\", (tau_x[n_court], C4_x[n_court]*2), \n",
    "             xytext=(tau_x[n_court], C4_x[n_court]*1000), ha=\"center\",\n",
    "            arrowprops=dict(arrowstyle = \"->\", lw = 0.8, color= \"k\"), fontsize=10)\n",
    "axC4.annotate(r\"$\\tau _2$\", (tau_x[n_mid], C4_x[n_mid]/2), \n",
    "             xytext=(tau_x[n_mid], C4_x[n_mid]/5000), ha=\"center\",\n",
    "            arrowprops=dict(arrowstyle = \"->\", lw = 0.8, color= \"k\"), fontsize=10)\n",
    "axC4.annotate(r\"$\\tau _3$\", (tau_x[n_long], C4_x[n_long]/2),\n",
    "             xytext=(tau_x[n_long], C4_x[n_long]/5000), ha=\"center\",\n",
    "            arrowprops=dict(arrowstyle = \"->\", lw = 0.8, color= \"k\"), fontsize=10)\n",
    "axC4.set(\n",
    "    xlabel = r\"$\\tau$ (s)\",\n",
    "    ylabel = r\"$\\langle X_t^4 \\rangle_\\mathrm{c}$ ($\\mathrm{m}^{4}$)\",\n",
    "    xlim = [5e-3, 1e3],\n",
    ")\n",
    "axC4.text(0.02, 0.9, r\"(a)\", transform=axC4.transAxes)   \n",
    "\n",
    "locmaj = mpl.ticker.LogLocator(base=10.0, subs=(1.0, ), numticks=100)\n",
    "axC4.xaxis.set_major_locator(locmaj)\n",
    "locmin = mpl.ticker.LogLocator(base=10.0, subs=np.arange(2, 10) * .1, numticks=100)\n",
    "axC4.xaxis.set_minor_locator(locmin)\n",
    "axC4.xaxis.set_minor_formatter(mpl.ticker.NullFormatter())\n",
    "\n",
    "locmaj = mpl.ticker.LogLocator(base=10.0, subs=(1.0, ), numticks=100)\n",
    "axC4.yaxis.set_major_locator(locmaj)\n",
    "locmin = mpl.ticker.LogLocator(base=10.0, subs=np.arange(2, 10) * .1, numticks=100)\n",
    "axC4.yaxis.set_minor_locator(locmin)\n",
    "axC4.yaxis.set_minor_formatter(mpl.ticker.NullFormatter())\n",
    "\n",
    "\n",
    "# KURTOSIS\n",
    "axKU = plt.subplot(gs[1, :])\n",
    "axKU.plot(np.linspace(5e-3, 100, 1000), np.ones(1000)*A4_theo_x/(4*mean_Dx**2), \"-\", color=\"peru\", linewidth=1.5)\n",
    "axKU.plot(np.linspace(1, 3000, 1000), 24*D4_long_theo/(4*mean_Dx**2) /np.linspace(1, 3000, 1000) , \"--\", color=\"peru\", linewidth=1.5)\n",
    "axKU.loglog(analytic_time[:-25], analytic_kurtosis[:-25], \"k-\", linewidth=1.5)\n",
    "axKU.loglog(tau_x[:-5], Kurtosis_x[:-5], \".\", color=\"tab:blue\", markersize=8)\n",
    "axKU.errorbar(experience_time[:-3], experience_Kurtosis[:-3], yerr=experience_errKurtosis[:-3], fmt='*', linestyle=\"\",color=\"tab:green\", markersize=8)\n",
    "axKU.annotate(r\"$\\tau _1$\", (tau_x[n_court], Kurtosis_x[n_court]/1.1), \n",
    "             xytext=(tau_x[n_court], Kurtosis_x[n_court]/8), ha=\"center\",\n",
    "            arrowprops=dict(arrowstyle = \"->\", lw = 0.8, color= \"k\"), fontsize=10)\n",
    "axKU.annotate(r\"$\\tau _2$\", (tau_x[n_mid], Kurtosis_x[n_mid]/1.08), \n",
    "             xytext=(tau_x[n_mid], Kurtosis_x[n_mid]/8), ha=\"center\",\n",
    "            arrowprops=dict(arrowstyle = \"->\", lw = 0.8, color= \"k\"), fontsize=10)\n",
    "axKU.annotate(r\"$\\tau _3$\", (tau_x[n_long], Kurtosis_x[n_long]/1.1),\n",
    "             xytext=(tau_x[n_long], Kurtosis_x[n_long]/8), ha=\"center\",\n",
    "            arrowprops=dict(arrowstyle = \"->\", lw = 0.8, color= \"k\"), fontsize=10)\n",
    "axKU.set(\n",
    "    xlabel = r\"$\\tau$ (s)\",\n",
    "    ylabel = r\"$\\frac{\\langle X_t^4 \\rangle }{ \\langle X_t^2 \\rangle^2} - 3$\",\n",
    ")\n",
    "axKU.set_xlim([5e-3, 1e3])\n",
    "axKU.set_ylim([7e-4, 2e-1])\n",
    "# axKU.text(6.5e-3, 1.2e-1, r\"(b)\", transform=axKU.transData)\n",
    "axKU.text(0.02, 0.9, r\"(b)\", transform=axKU.transAxes)   \n",
    "\n",
    "locmaj = mpl.ticker.LogLocator(base=10.0, subs=(1.0, ), numticks=100)\n",
    "axKU.xaxis.set_major_locator(locmaj)\n",
    "locmin = mpl.ticker.LogLocator(base=10.0, subs=np.arange(2, 10) * .1, numticks=100)\n",
    "axKU.xaxis.set_minor_locator(locmin)\n",
    "axKU.xaxis.set_minor_formatter(mpl.ticker.NullFormatter())\n",
    "\n",
    "locmaj = mpl.ticker.LogLocator(base=10.0, subs=(1.0, ), numticks=100)\n",
    "axKU.yaxis.set_major_locator(locmaj)\n",
    "locmin = mpl.ticker.LogLocator(base=10.0, subs=np.arange(2, 10) * .1, numticks=100)\n",
    "axKU.yaxis.set_minor_locator(locmin)\n",
    "axKU.yaxis.set_minor_formatter(mpl.ticker.NullFormatter())\n",
    "\n",
    "\n",
    "\n",
    "# PDF1\n",
    "ax1 = plt.subplot(gs[2, 0:2])\n",
    "Z1 = np.trapz(data_1, dx_1*1e6)\n",
    "# ax1.semilogy(dxCOURT*1e6, Gauss1_x/ np.trapz(Gauss1_x, dxCOURT*1e6) , \"--\", color=\"darkgrey\", linewidth=1.5)\n",
    "ax1.semilogy(theo_dx_1, theo_PDF_1, \"k-\", linewidth=1.5)\n",
    "ax1.semilogy(-theo_dx_1, theo_PDF_1, \"k-\", linewidth=1.5)\n",
    "ax1.errorbar(experience_dX_0p01*1e6, experience_PDF_0p01/ np.trapz(experience_PDF_0p01, experience_dX_0p01*1e6), yerr=experience_PDFstd_0p01/ np.trapz(experience_PDF_0p01, experience_dX_0p01*1e6), fmt='*', linestyle=\"\",color=\"tab:green\", markersize=8)\n",
    "ax1.semilogy(dx_1*1e6, data_1/ Z1,\".\", color=\"tab:blue\", markersize=8)\n",
    "# ax1.fill_between(dx_1*1e6, Min / Z1, Max / Z1, color='blue', alpha=0.1) #ZONE BLEU MIN/MAX DES Ns TRAJECTOIRES\n",
    "# ax1.text(0.14, 14, r\"$\\tau_1$\", fontsize=6)\n",
    "ax1.set_xlim(-0.35, 0.35)\n",
    "ax1.set_ylim(1e-10, 5e1)\n",
    "ax1.set(\n",
    "    xlabel = r\"$x$ ($\\mu$m)\",\n",
    "    ylabel = r\"$p( x, \\tau_1)$ ($\\mu$m$^{-1}$)\",\n",
    ")\n",
    "ax1.text(0.07, 0.9, r\"(c)\", transform=ax1.transAxes)   \n",
    "\n",
    "locmaj = mpl.ticker.LogLocator(base=10.0, subs=(1.0, ), numticks=100)\n",
    "ax1.yaxis.set_major_locator(locmaj)\n",
    "locmin = mpl.ticker.LogLocator(base=10.0, subs=np.arange(2, 10) * .1,\n",
    "                                      numticks=100)\n",
    "ax1.yaxis.set_minor_locator(locmin)\n",
    "ax1.yaxis.set_minor_formatter(mpl.ticker.NullFormatter())\n",
    "\n",
    "\n",
    "\n",
    "\n",
    "#PDF2\n",
    "ax0 = plt.subplot(gs[2, 2:4])\n",
    "Z0 = np.trapz(data_0, dx_0*1e6)\n",
    "# ax0.plot(dxMID*1e6, Gauss0_x / np.trapz(Gauss0_x, dxMID*1e6), \"--\", color=\"darkgrey\", linewidth=1.5)\n",
    "ax0.semilogy(theo_dx_0, theo_PDF_0, \"k-\", linewidth=1.5)\n",
    "ax0.semilogy(-theo_dx_0, theo_PDF_0, \"k-\", linewidth=1.5)\n",
    "ax0.semilogy(dx_0*1e6, data_0/ Z0,\".\", color=\"tab:blue\", markersize=8)\n",
    "norm=np.trapz(experience_PDF_1, experience_dX_1*1e6)\n",
    "ax0.errorbar(experience_dX_1*1e6, experience_PDF_1/norm, yerr=experience_PDFstd_1/norm, fmt='*', linestyle=\"\",color=\"tab:green\", markersize=8)\n",
    "# ax0.fill_between(dx_0*1e6, Min / Z0, Max / Z0, color='blue', alpha=0.1)\n",
    "\n",
    "ax0.set_xlim(-3.5, 3.5)\n",
    "ax0.set_ylim(1e-10, 5e0)\n",
    "#ax0.text(1.5, 4e-1, r\"$\\tau_2 = $ \"+ str(Ntime[n_mid]*dt) + \" s\", fontsize=6)\n",
    "# ax0.text(1.5, 4e-1, r\"$\\tau_2$\", fontsize=6)\n",
    "\n",
    "ax0.set(\n",
    "    xlabel = r\"$x$ ($\\mu$m)\",\n",
    "    ylabel = r\"$p( x, \\tau_2)$ ($\\mu$m$^{-1}$)\",\n",
    ")\n",
    "ax0.text(0.07, 0.9, r\"(d)\", transform=ax0.transAxes)   \n",
    "\n",
    "locmaj = mpl.ticker.LogLocator(base=10.0, subs=(1.0, ), numticks=100)\n",
    "ax0.yaxis.set_major_locator(locmaj)\n",
    "locmin = mpl.ticker.LogLocator(base=10.0, subs=np.arange(2, 10) * .1,\n",
    "                                      numticks=100)\n",
    "ax0.yaxis.set_minor_locator(locmin)\n",
    "ax0.yaxis.set_minor_formatter(mpl.ticker.NullFormatter())\n",
    "\n",
    "\n",
    "\n",
    "#PDF3\n",
    "ax2 = plt.subplot(gs[2, 4:6])\n",
    "Z2 = np.trapz(data_2, dx_2*1e6)\n",
    "ax2.semilogy(theo_dx_2, theo_PDF_2, \"k-\", linewidth=1.5)\n",
    "ax2.semilogy(-theo_dx_2, theo_PDF_2, \"k-\", linewidth=1.5)\n",
    "# ax2.semilogy(dxLONG*1e6, Gauss2_x / np.trapz(Gauss2_x, dxLONG*1e6), \"--\", color=\"darkgrey\", linewidth=1.5)\n",
    "ax2.plot(dx_2*1e6, data_2 / Z2, \".\", color=\"tab:blue\", markersize=8)\n",
    "# ax2.fill_between(dx_2*1e6, Min / Z2, Max / Z2, color='blue', alpha=0.1)\n",
    "\n",
    "ax2.set_xlim(-30, 30)\n",
    "ax2.set_ylim(1e-10, 5e-1)\n",
    "# ax2.text(13, 3e-2, r\"$\\tau_3 = $ \"+ str(Ntime[n_long]*dt) + \" s\", fontsize=8)\n",
    "# ax2.text(13, 3e-2, r\"$\\tau_3 $\", fontsize=8)\n",
    "ax2.set(\n",
    "    xlabel = r\"$ x$ ($\\mu$m)\",\n",
    "    ylabel = r\"$p( x, \\tau_3)$ ($\\mu$m$^{-1}$)\",\n",
    ")\n",
    "#ax2.text(-28, 3e-2, r\"(e)\", transform=ax2.transData)  \n",
    "ax2.text(0.07, 0.9, r\"(e)\", transform=ax2.transAxes)   \n",
    "locmaj = mpl.ticker.LogLocator(base=10.0, subs=(1.0, ), numticks=100)\n",
    "ax2.yaxis.set_major_locator(locmaj)\n",
    "locmin = mpl.ticker.LogLocator(base=10.0, subs=np.arange(2, 10) * .1,\n",
    "                                      numticks=100)\n",
    "ax2.yaxis.set_minor_locator(locmin)\n",
    "ax2.yaxis.set_minor_formatter(mpl.ticker.NullFormatter())\n",
    "\n",
    "\n",
    "\n",
    "ax0_ticks = ax0.get_yticklabels()\n",
    "for i in ax0_ticks:\n",
    "    i.set_visible(False)\n",
    "    \n",
    "for n, i in enumerate(ax0_ticks):\n",
    "    if n%2==0:i.set_visible(True)\n",
    "    \n",
    "\n",
    "ax1_ticks = ax1.get_yticklabels()\n",
    "for i in ax1_ticks:\n",
    "    i.set_visible(False)\n",
    "    \n",
    "for n, i in enumerate(ax1_ticks):\n",
    "    if n%2==0:i.set_visible(True)\n",
    "\n",
    "\n",
    "###    \n",
    "ax2_ticks = ax2.get_yticklabels()\n",
    "for i in ax2_ticks:\n",
    "    i.set_visible(False)\n",
    "    \n",
    "for n, i in enumerate(ax2_ticks):\n",
    "    if n%2==0:i.set_visible(True)\n",
    "    \n",
    "\n",
    "    \n",
    "# ###\n",
    "# axC4_ticks = axC4.get_xticklabels()\n",
    "# for i in axC4_ticks:\n",
    "#     i.set_visible(False)\n",
    "    \n",
    "# for n, i in enumerate(axC4_ticks):\n",
    "#     if n%2==0:i.set_visible(True)\n",
    "# ###\n",
    "\n",
    "# axKU_ticks = axKU.get_xticklabels()\n",
    "# for i in axKU_ticks:\n",
    "#     i.set_visible(False)\n",
    "    \n",
    "# for n, i in enumerate(axKU_ticks):\n",
    "#     if n%2==0:i.set_visible(True)\n",
    "\n",
    "ax0.xaxis.set_major_formatter(FormatStrFormatter('%g'))\n",
    "ax1.xaxis.set_major_formatter(FormatStrFormatter('%g'))\n",
    "\n",
    "\n",
    "fig.tight_layout(pad = 0.001, h_pad=0.1)\n",
    "\n",
    "# plt.savefig(\"../Figures/Simu_C4-Kurtosis-PDF_Large-Gap_H-40micron_V2.pdf\",bbox_inches='tight')"
   ]
  },
  {
   "cell_type": "code",
   "execution_count": null,
   "id": "a25feb7c-627e-49af-a750-0f7e8dbeb29b",
   "metadata": {},
   "outputs": [],
   "source": []
  },
  {
   "cell_type": "code",
   "execution_count": null,
   "id": "a3789140-5554-4226-81b4-ff898435ce53",
   "metadata": {},
   "outputs": [],
   "source": [
    "# Calcul du C4 en fonction de Ns\n",
    "\n",
    "# Méthode <PDF> => C4\n",
    "Nss= np.unique(np.logspace(0, 6, num = 40, base = 10, dtype=int))\n",
    "dC4x_t = np.zeros(len(tau_x))\n",
    "\n",
    "for m, j in enumerate(tau_x):\n",
    "    for n, i in enumerate(Nss):\n",
    "            dx, pdf = PDFs[\"dx_0, PDF_x0\"]\n",
    "            PDF = np.sum(data_0[:i, :], axis=0)\n",
    "            PDF = PDF / np.trapz(PDF, dx_0)\n",
    "            C4_x_Ns_M1_0[n] = np.trapz(dx_0**4 *PDF, dx_0) - 3* (np.trapz(dx_0**2 * PDF, dx_0))**2\n",
    "\n",
    "        "
   ]
  },
  {
   "cell_type": "code",
   "execution_count": null,
   "id": "4eebcfc0-04b4-4728-a267-b202ebe3f762",
   "metadata": {},
   "outputs": [],
   "source": []
  },
  {
   "cell_type": "code",
   "execution_count": null,
   "id": "562ae3b2-7fa9-43e4-bd3a-35f31ac5a59a",
   "metadata": {},
   "outputs": [],
   "source": []
  },
  {
   "cell_type": "code",
   "execution_count": null,
   "id": "0629695c-a3bb-46e4-8f44-177286d0f942",
   "metadata": {},
   "outputs": [],
   "source": []
  },
  {
   "cell_type": "code",
   "execution_count": null,
   "id": "1acff678-a1f2-4360-a635-cdd4fb4f404c",
   "metadata": {},
   "outputs": [],
   "source": []
  },
  {
   "cell_type": "code",
   "execution_count": null,
   "id": "57596ce0-b850-48dc-bc3b-6135ea865ed8",
   "metadata": {},
   "outputs": [],
   "source": []
  }
 ],
 "metadata": {
  "kernelspec": {
   "display_name": "Python 3 (ipykernel)",
   "language": "python",
   "name": "python3"
  },
  "language_info": {
   "codemirror_mode": {
    "name": "ipython",
    "version": 3
   },
   "file_extension": ".py",
   "mimetype": "text/x-python",
   "name": "python",
   "nbconvert_exporter": "python",
   "pygments_lexer": "ipython3",
   "version": "3.10.0"
  }
 },
 "nbformat": 4,
 "nbformat_minor": 5
}
